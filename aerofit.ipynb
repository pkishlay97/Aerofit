{
 "cells": [
  {
   "cell_type": "code",
   "execution_count": 1,
   "id": "c94797e8",
   "metadata": {},
   "outputs": [],
   "source": [
    "import numpy as np\n",
    "import pandas as pd\n",
    "import seaborn as sns\n",
    "import matplotlib.pyplot as plt"
   ]
  },
  {
   "cell_type": "code",
   "execution_count": 3,
   "id": "c72970e0",
   "metadata": {},
   "outputs": [],
   "source": [
    "aerofit=pd.read_csv(\"aerofit_treadmill.csv\")"
   ]
  },
  {
   "cell_type": "markdown",
   "id": "0a5f86f6",
   "metadata": {},
   "source": [
    "# overview"
   ]
  },
  {
   "cell_type": "code",
   "execution_count": 4,
   "id": "fb9b5693",
   "metadata": {},
   "outputs": [
    {
     "data": {
      "text/html": [
       "<div>\n",
       "<style scoped>\n",
       "    .dataframe tbody tr th:only-of-type {\n",
       "        vertical-align: middle;\n",
       "    }\n",
       "\n",
       "    .dataframe tbody tr th {\n",
       "        vertical-align: top;\n",
       "    }\n",
       "\n",
       "    .dataframe thead th {\n",
       "        text-align: right;\n",
       "    }\n",
       "</style>\n",
       "<table border=\"1\" class=\"dataframe\">\n",
       "  <thead>\n",
       "    <tr style=\"text-align: right;\">\n",
       "      <th></th>\n",
       "      <th>Product</th>\n",
       "      <th>Age</th>\n",
       "      <th>Gender</th>\n",
       "      <th>Education</th>\n",
       "      <th>MaritalStatus</th>\n",
       "      <th>Usage</th>\n",
       "      <th>Fitness</th>\n",
       "      <th>Income</th>\n",
       "      <th>Miles</th>\n",
       "    </tr>\n",
       "  </thead>\n",
       "  <tbody>\n",
       "    <tr>\n",
       "      <th>0</th>\n",
       "      <td>KP281</td>\n",
       "      <td>18</td>\n",
       "      <td>Male</td>\n",
       "      <td>14</td>\n",
       "      <td>Single</td>\n",
       "      <td>3</td>\n",
       "      <td>4</td>\n",
       "      <td>29562</td>\n",
       "      <td>112</td>\n",
       "    </tr>\n",
       "    <tr>\n",
       "      <th>1</th>\n",
       "      <td>KP281</td>\n",
       "      <td>19</td>\n",
       "      <td>Male</td>\n",
       "      <td>15</td>\n",
       "      <td>Single</td>\n",
       "      <td>2</td>\n",
       "      <td>3</td>\n",
       "      <td>31836</td>\n",
       "      <td>75</td>\n",
       "    </tr>\n",
       "    <tr>\n",
       "      <th>2</th>\n",
       "      <td>KP281</td>\n",
       "      <td>19</td>\n",
       "      <td>Female</td>\n",
       "      <td>14</td>\n",
       "      <td>Partnered</td>\n",
       "      <td>4</td>\n",
       "      <td>3</td>\n",
       "      <td>30699</td>\n",
       "      <td>66</td>\n",
       "    </tr>\n",
       "    <tr>\n",
       "      <th>3</th>\n",
       "      <td>KP281</td>\n",
       "      <td>19</td>\n",
       "      <td>Male</td>\n",
       "      <td>12</td>\n",
       "      <td>Single</td>\n",
       "      <td>3</td>\n",
       "      <td>3</td>\n",
       "      <td>32973</td>\n",
       "      <td>85</td>\n",
       "    </tr>\n",
       "    <tr>\n",
       "      <th>4</th>\n",
       "      <td>KP281</td>\n",
       "      <td>20</td>\n",
       "      <td>Male</td>\n",
       "      <td>13</td>\n",
       "      <td>Partnered</td>\n",
       "      <td>4</td>\n",
       "      <td>2</td>\n",
       "      <td>35247</td>\n",
       "      <td>47</td>\n",
       "    </tr>\n",
       "  </tbody>\n",
       "</table>\n",
       "</div>"
      ],
      "text/plain": [
       "  Product  Age  Gender  Education MaritalStatus  Usage  Fitness  Income  Miles\n",
       "0   KP281   18    Male         14        Single      3        4   29562    112\n",
       "1   KP281   19    Male         15        Single      2        3   31836     75\n",
       "2   KP281   19  Female         14     Partnered      4        3   30699     66\n",
       "3   KP281   19    Male         12        Single      3        3   32973     85\n",
       "4   KP281   20    Male         13     Partnered      4        2   35247     47"
      ]
     },
     "execution_count": 4,
     "metadata": {},
     "output_type": "execute_result"
    }
   ],
   "source": [
    "aerofit.head()"
   ]
  },
  {
   "cell_type": "code",
   "execution_count": 37,
   "id": "751240c3",
   "metadata": {},
   "outputs": [
    {
     "data": {
      "text/plain": [
       "(180, 9)"
      ]
     },
     "execution_count": 37,
     "metadata": {},
     "output_type": "execute_result"
    }
   ],
   "source": [
    "aerofit.shape"
   ]
  },
  {
   "cell_type": "code",
   "execution_count": 11,
   "id": "4f252ae3",
   "metadata": {},
   "outputs": [
    {
     "name": "stdout",
     "output_type": "stream",
     "text": [
      "<class 'pandas.core.frame.DataFrame'>\n",
      "RangeIndex: 180 entries, 0 to 179\n",
      "Data columns (total 9 columns):\n",
      " #   Column         Non-Null Count  Dtype \n",
      "---  ------         --------------  ----- \n",
      " 0   Product        180 non-null    object\n",
      " 1   Age            180 non-null    int64 \n",
      " 2   Gender         180 non-null    object\n",
      " 3   Education      180 non-null    int64 \n",
      " 4   MaritalStatus  180 non-null    object\n",
      " 5   Usage          180 non-null    int64 \n",
      " 6   Fitness        180 non-null    int64 \n",
      " 7   Income         180 non-null    int64 \n",
      " 8   Miles          180 non-null    int64 \n",
      "dtypes: int64(6), object(3)\n",
      "memory usage: 12.8+ KB\n"
     ]
    }
   ],
   "source": [
    "aerofit.info()"
   ]
  },
  {
   "cell_type": "code",
   "execution_count": null,
   "id": "739ab9d4",
   "metadata": {},
   "outputs": [],
   "source": []
  },
  {
   "cell_type": "markdown",
   "id": "ec3205b8",
   "metadata": {},
   "source": [
    "# Value_Counts/% values"
   ]
  },
  {
   "cell_type": "code",
   "execution_count": 40,
   "id": "d6bdf49c",
   "metadata": {},
   "outputs": [
    {
     "data": {
      "text/plain": [
       "KP281    44.444444\n",
       "KP481    33.333333\n",
       "KP781    22.222222\n",
       "Name: Product, dtype: float64"
      ]
     },
     "execution_count": 40,
     "metadata": {},
     "output_type": "execute_result"
    }
   ],
   "source": [
    "aerofit[\"Product\"].value_counts(normalize=True)*100"
   ]
  },
  {
   "cell_type": "code",
   "execution_count": 42,
   "id": "30e57727",
   "metadata": {},
   "outputs": [
    {
     "data": {
      "text/plain": [
       "20-30    61.111111\n",
       "30-40    26.666667\n",
       "40-50     6.666667\n",
       "0-20      5.555556\n",
       "Name: Age, dtype: float64"
      ]
     },
     "execution_count": 42,
     "metadata": {},
     "output_type": "execute_result"
    }
   ],
   "source": [
    "def func(data):\n",
    "    if data<=20:\n",
    "        return \"0-20\"\n",
    "    elif data>20 and data<=30:\n",
    "        return \"20-30\"\n",
    "    elif data>30 and data<=40:\n",
    "        return \"30-40\"\n",
    "    elif data >40 and data<=50:\n",
    "        return \"40-50\"\n",
    "    else:\n",
    "        return \"50+\"\n",
    "aerofit[\"Age\"].apply(func).value_counts(normalize=True)*100"
   ]
  },
  {
   "cell_type": "code",
   "execution_count": 43,
   "id": "0f548fb8",
   "metadata": {},
   "outputs": [
    {
     "data": {
      "text/plain": [
       "Male      57.777778\n",
       "Female    42.222222\n",
       "Name: Gender, dtype: float64"
      ]
     },
     "execution_count": 43,
     "metadata": {},
     "output_type": "execute_result"
    }
   ],
   "source": [
    "aerofit[\"Gender\"].value_counts(normalize=True)*100"
   ]
  },
  {
   "cell_type": "code",
   "execution_count": 44,
   "id": "0d87c213",
   "metadata": {},
   "outputs": [
    {
     "data": {
      "text/plain": [
       "16    47.222222\n",
       "14    30.555556\n",
       "18    12.777778\n",
       "15     2.777778\n",
       "13     2.777778\n",
       "12     1.666667\n",
       "21     1.666667\n",
       "20     0.555556\n",
       "Name: Education, dtype: float64"
      ]
     },
     "execution_count": 44,
     "metadata": {},
     "output_type": "execute_result"
    }
   ],
   "source": [
    "aerofit[\"Education\"].value_counts(normalize=True)*100"
   ]
  },
  {
   "cell_type": "code",
   "execution_count": 46,
   "id": "fefbe502",
   "metadata": {},
   "outputs": [
    {
     "data": {
      "text/plain": [
       "Partnered    59.444444\n",
       "Single       40.555556\n",
       "Name: MaritalStatus, dtype: float64"
      ]
     },
     "execution_count": 46,
     "metadata": {},
     "output_type": "execute_result"
    }
   ],
   "source": [
    "aerofit[\"MaritalStatus\"].value_counts(normalize=True)*100"
   ]
  },
  {
   "cell_type": "code",
   "execution_count": 47,
   "id": "a27436bc",
   "metadata": {},
   "outputs": [
    {
     "data": {
      "text/plain": [
       "3    38.333333\n",
       "4    28.888889\n",
       "2    18.333333\n",
       "5     9.444444\n",
       "6     3.888889\n",
       "7     1.111111\n",
       "Name: Usage, dtype: float64"
      ]
     },
     "execution_count": 47,
     "metadata": {},
     "output_type": "execute_result"
    }
   ],
   "source": [
    "aerofit[\"Usage\"].value_counts(normalize=True)*100"
   ]
  },
  {
   "cell_type": "code",
   "execution_count": 48,
   "id": "8e1cbef2",
   "metadata": {},
   "outputs": [
    {
     "data": {
      "text/plain": [
       "3    53.888889\n",
       "5    17.222222\n",
       "2    14.444444\n",
       "4    13.333333\n",
       "1     1.111111\n",
       "Name: Fitness, dtype: float64"
      ]
     },
     "execution_count": 48,
     "metadata": {},
     "output_type": "execute_result"
    }
   ],
   "source": [
    "aerofit[\"Fitness\"].value_counts(normalize=True)*100"
   ]
  },
  {
   "cell_type": "code",
   "execution_count": 51,
   "id": "cb599a3b",
   "metadata": {},
   "outputs": [
    {
     "data": {
      "text/plain": [
       "50k-100k     52.222222\n",
       "25k-50k      46.111111\n",
       "100k-150k     1.666667\n",
       "Name: Income, dtype: float64"
      ]
     },
     "execution_count": 51,
     "metadata": {},
     "output_type": "execute_result"
    }
   ],
   "source": [
    "def func(data):\n",
    "    if data<=25000:\n",
    "        return \"0-25k\"\n",
    "    elif data>25000 and data<=50000:\n",
    "        return \"25k-50k\"\n",
    "    elif data>50000 and data<=100000:\n",
    "        return \"50k-100k\"\n",
    "    elif data>100000 and data<=150000:\n",
    "        return \"100k-150k\"\n",
    "    else:\n",
    "        return \"150k+\"\n",
    "\n",
    "aerofit[\"Income\"].apply(func).value_counts(normalize=True)*100"
   ]
  },
  {
   "cell_type": "code",
   "execution_count": 50,
   "id": "ae96def3",
   "metadata": {},
   "outputs": [
    {
     "data": {
      "text/plain": [
       "50-100     53.888889\n",
       "100-150    21.111111\n",
       "150-200    12.222222\n",
       "0-50        9.444444\n",
       "250-300     1.666667\n",
       "200-250     1.111111\n",
       "300+        0.555556\n",
       "Name: Miles, dtype: float64"
      ]
     },
     "execution_count": 50,
     "metadata": {},
     "output_type": "execute_result"
    }
   ],
   "source": [
    "def func(data):\n",
    "    if data<=50:\n",
    "        return \"0-50\"\n",
    "    elif data>50 and data<=100:\n",
    "        return \"50-100\"\n",
    "    elif data>100 and data<=150:\n",
    "        return \"100-150\"\n",
    "    elif data>150 and data<=200:\n",
    "        return \"150-200\"\n",
    "    elif data>200 and data<=250:\n",
    "        return \"200-250\"\n",
    "    elif data>250 and data<=300:\n",
    "        return \"250-300\"\n",
    "    else:\n",
    "        return \"300+\"\n",
    "    \n",
    "aerofit[\"Miles\"].apply(func).value_counts(normalize=True)*100"
   ]
  },
  {
   "cell_type": "markdown",
   "id": "164284d6",
   "metadata": {},
   "source": [
    "# Unique_Values"
   ]
  },
  {
   "cell_type": "code",
   "execution_count": 7,
   "id": "ab7fcc1c",
   "metadata": {},
   "outputs": [
    {
     "data": {
      "text/plain": [
       "3"
      ]
     },
     "execution_count": 7,
     "metadata": {},
     "output_type": "execute_result"
    }
   ],
   "source": [
    "aerofit[\"Product\"].nunique()"
   ]
  },
  {
   "cell_type": "code",
   "execution_count": 8,
   "id": "5ac80fb8",
   "metadata": {},
   "outputs": [
    {
     "data": {
      "text/plain": [
       "array(['KP281', 'KP481', 'KP781'], dtype=object)"
      ]
     },
     "execution_count": 8,
     "metadata": {},
     "output_type": "execute_result"
    }
   ],
   "source": [
    "aerofit[\"Product\"].unique()"
   ]
  },
  {
   "cell_type": "code",
   "execution_count": 9,
   "id": "8288dfd8",
   "metadata": {},
   "outputs": [
    {
     "data": {
      "text/plain": [
       "18"
      ]
     },
     "execution_count": 9,
     "metadata": {},
     "output_type": "execute_result"
    }
   ],
   "source": [
    "aerofit[\"Age\"].min()"
   ]
  },
  {
   "cell_type": "code",
   "execution_count": 10,
   "id": "7ebae903",
   "metadata": {},
   "outputs": [
    {
     "data": {
      "text/plain": [
       "50"
      ]
     },
     "execution_count": 10,
     "metadata": {},
     "output_type": "execute_result"
    }
   ],
   "source": [
    "aerofit[\"Age\"].max()"
   ]
  },
  {
   "cell_type": "code",
   "execution_count": 14,
   "id": "09daffc2",
   "metadata": {},
   "outputs": [
    {
     "data": {
      "text/plain": [
       "array([18, 19, 20, 21, 22, 23, 24, 25, 26, 27, 28, 29, 30, 31, 32, 33, 34,\n",
       "       35, 36, 37, 38, 39, 40, 41, 42, 43, 44, 45, 46, 47, 48, 50],\n",
       "      dtype=int64)"
      ]
     },
     "execution_count": 14,
     "metadata": {},
     "output_type": "execute_result"
    }
   ],
   "source": [
    "aerofit[\"Age\"].sort_values(ascending=True).unique()"
   ]
  },
  {
   "cell_type": "code",
   "execution_count": 15,
   "id": "3c483ee1",
   "metadata": {},
   "outputs": [
    {
     "data": {
      "text/plain": [
       "array(['Male', 'Female'], dtype=object)"
      ]
     },
     "execution_count": 15,
     "metadata": {},
     "output_type": "execute_result"
    }
   ],
   "source": [
    "aerofit[\"Gender\"].unique()"
   ]
  },
  {
   "cell_type": "code",
   "execution_count": 17,
   "id": "f8fc3a0b",
   "metadata": {},
   "outputs": [
    {
     "data": {
      "text/plain": [
       "array([12, 13, 14, 15, 16, 18, 20, 21], dtype=int64)"
      ]
     },
     "execution_count": 17,
     "metadata": {},
     "output_type": "execute_result"
    }
   ],
   "source": [
    "aerofit[\"Education\"].sort_values(ascending=True).unique()"
   ]
  },
  {
   "cell_type": "code",
   "execution_count": 18,
   "id": "e56f4311",
   "metadata": {},
   "outputs": [
    {
     "data": {
      "text/plain": [
       "array(['Single', 'Partnered'], dtype=object)"
      ]
     },
     "execution_count": 18,
     "metadata": {},
     "output_type": "execute_result"
    }
   ],
   "source": [
    "aerofit[\"MaritalStatus\"].unique()"
   ]
  },
  {
   "cell_type": "code",
   "execution_count": 21,
   "id": "c6e5d5ba",
   "metadata": {},
   "outputs": [
    {
     "data": {
      "text/plain": [
       "array([2, 3, 4, 5, 6, 7], dtype=int64)"
      ]
     },
     "execution_count": 21,
     "metadata": {},
     "output_type": "execute_result"
    }
   ],
   "source": [
    "aerofit[\"Usage\"].sort_values(ascending=True).unique()"
   ]
  },
  {
   "cell_type": "code",
   "execution_count": 22,
   "id": "709534c7",
   "metadata": {},
   "outputs": [
    {
     "data": {
      "text/plain": [
       "array([1, 2, 3, 4, 5], dtype=int64)"
      ]
     },
     "execution_count": 22,
     "metadata": {},
     "output_type": "execute_result"
    }
   ],
   "source": [
    "aerofit[\"Fitness\"].sort_values(ascending=True).unique()"
   ]
  },
  {
   "cell_type": "code",
   "execution_count": 23,
   "id": "36e3603e",
   "metadata": {},
   "outputs": [
    {
     "data": {
      "text/plain": [
       "array([ 29562,  30699,  31836,  32973,  34110,  35247,  36384,  37521,\n",
       "        38658,  39795,  40932,  42069,  43206,  44343,  45480,  46617,\n",
       "        47754,  48556,  48658,  48891,  49801,  50028,  51165,  52290,\n",
       "        52291,  52302,  53439,  53536,  54576,  54781,  55713,  56850,\n",
       "        57271,  57987,  58516,  59124,  60261,  61006,  61398,  62251,\n",
       "        62535,  64741,  64809,  65220,  67083,  68220,  69721,  70966,\n",
       "        74701,  75946,  77191,  83416,  85906,  88396,  89641,  90886,\n",
       "        92131,  95508,  95866,  99601, 103336, 104581], dtype=int64)"
      ]
     },
     "execution_count": 23,
     "metadata": {},
     "output_type": "execute_result"
    }
   ],
   "source": [
    "aerofit[\"Income\"].sort_values(ascending=True).unique()"
   ]
  },
  {
   "cell_type": "code",
   "execution_count": 24,
   "id": "17184ae7",
   "metadata": {},
   "outputs": [
    {
     "data": {
      "text/plain": [
       "array([ 21,  38,  42,  47,  53,  56,  64,  66,  74,  75,  80,  85,  94,\n",
       "        95, 100, 103, 106, 112, 113, 120, 127, 132, 140, 141, 150, 160,\n",
       "       169, 170, 180, 188, 200, 212, 240, 260, 280, 300, 360], dtype=int64)"
      ]
     },
     "execution_count": 24,
     "metadata": {},
     "output_type": "execute_result"
    }
   ],
   "source": [
    "aerofit[\"Miles\"].sort_values(ascending=True).unique()"
   ]
  },
  {
   "cell_type": "markdown",
   "id": "282c080d",
   "metadata": {},
   "source": [
    "# Boxplot"
   ]
  },
  {
   "cell_type": "code",
   "execution_count": 27,
   "id": "a441f500",
   "metadata": {},
   "outputs": [
    {
     "data": {
      "text/html": [
       "<div>\n",
       "<style scoped>\n",
       "    .dataframe tbody tr th:only-of-type {\n",
       "        vertical-align: middle;\n",
       "    }\n",
       "\n",
       "    .dataframe tbody tr th {\n",
       "        vertical-align: top;\n",
       "    }\n",
       "\n",
       "    .dataframe thead th {\n",
       "        text-align: right;\n",
       "    }\n",
       "</style>\n",
       "<table border=\"1\" class=\"dataframe\">\n",
       "  <thead>\n",
       "    <tr style=\"text-align: right;\">\n",
       "      <th></th>\n",
       "      <th>count</th>\n",
       "      <th>mean</th>\n",
       "      <th>std</th>\n",
       "      <th>min</th>\n",
       "      <th>25%</th>\n",
       "      <th>50%</th>\n",
       "      <th>75%</th>\n",
       "      <th>max</th>\n",
       "    </tr>\n",
       "  </thead>\n",
       "  <tbody>\n",
       "    <tr>\n",
       "      <th>Age</th>\n",
       "      <td>180.0</td>\n",
       "      <td>28.788889</td>\n",
       "      <td>6.943498</td>\n",
       "      <td>18.0</td>\n",
       "      <td>24.00</td>\n",
       "      <td>26.0</td>\n",
       "      <td>33.00</td>\n",
       "      <td>50.0</td>\n",
       "    </tr>\n",
       "    <tr>\n",
       "      <th>Education</th>\n",
       "      <td>180.0</td>\n",
       "      <td>15.572222</td>\n",
       "      <td>1.617055</td>\n",
       "      <td>12.0</td>\n",
       "      <td>14.00</td>\n",
       "      <td>16.0</td>\n",
       "      <td>16.00</td>\n",
       "      <td>21.0</td>\n",
       "    </tr>\n",
       "    <tr>\n",
       "      <th>Usage</th>\n",
       "      <td>180.0</td>\n",
       "      <td>3.455556</td>\n",
       "      <td>1.084797</td>\n",
       "      <td>2.0</td>\n",
       "      <td>3.00</td>\n",
       "      <td>3.0</td>\n",
       "      <td>4.00</td>\n",
       "      <td>7.0</td>\n",
       "    </tr>\n",
       "    <tr>\n",
       "      <th>Fitness</th>\n",
       "      <td>180.0</td>\n",
       "      <td>3.311111</td>\n",
       "      <td>0.958869</td>\n",
       "      <td>1.0</td>\n",
       "      <td>3.00</td>\n",
       "      <td>3.0</td>\n",
       "      <td>4.00</td>\n",
       "      <td>5.0</td>\n",
       "    </tr>\n",
       "    <tr>\n",
       "      <th>Income</th>\n",
       "      <td>180.0</td>\n",
       "      <td>53719.577778</td>\n",
       "      <td>16506.684226</td>\n",
       "      <td>29562.0</td>\n",
       "      <td>44058.75</td>\n",
       "      <td>50596.5</td>\n",
       "      <td>58668.00</td>\n",
       "      <td>104581.0</td>\n",
       "    </tr>\n",
       "    <tr>\n",
       "      <th>Miles</th>\n",
       "      <td>180.0</td>\n",
       "      <td>103.194444</td>\n",
       "      <td>51.863605</td>\n",
       "      <td>21.0</td>\n",
       "      <td>66.00</td>\n",
       "      <td>94.0</td>\n",
       "      <td>114.75</td>\n",
       "      <td>360.0</td>\n",
       "    </tr>\n",
       "  </tbody>\n",
       "</table>\n",
       "</div>"
      ],
      "text/plain": [
       "           count          mean           std      min       25%      50%  \\\n",
       "Age        180.0     28.788889      6.943498     18.0     24.00     26.0   \n",
       "Education  180.0     15.572222      1.617055     12.0     14.00     16.0   \n",
       "Usage      180.0      3.455556      1.084797      2.0      3.00      3.0   \n",
       "Fitness    180.0      3.311111      0.958869      1.0      3.00      3.0   \n",
       "Income     180.0  53719.577778  16506.684226  29562.0  44058.75  50596.5   \n",
       "Miles      180.0    103.194444     51.863605     21.0     66.00     94.0   \n",
       "\n",
       "                75%       max  \n",
       "Age           33.00      50.0  \n",
       "Education     16.00      21.0  \n",
       "Usage          4.00       7.0  \n",
       "Fitness        4.00       5.0  \n",
       "Income     58668.00  104581.0  \n",
       "Miles        114.75     360.0  "
      ]
     },
     "execution_count": 27,
     "metadata": {},
     "output_type": "execute_result"
    }
   ],
   "source": [
    "aerofit.describe().T"
   ]
  },
  {
   "cell_type": "code",
   "execution_count": 28,
   "id": "e024a0c1",
   "metadata": {},
   "outputs": [
    {
     "data": {
      "text/plain": [
       "Product          0\n",
       "Age              0\n",
       "Gender           0\n",
       "Education        0\n",
       "MaritalStatus    0\n",
       "Usage            0\n",
       "Fitness          0\n",
       "Income           0\n",
       "Miles            0\n",
       "dtype: int64"
      ]
     },
     "execution_count": 28,
     "metadata": {},
     "output_type": "execute_result"
    }
   ],
   "source": [
    "aerofit.isna().sum()"
   ]
  },
  {
   "cell_type": "code",
   "execution_count": 29,
   "id": "8f883236",
   "metadata": {},
   "outputs": [
    {
     "data": {
      "text/html": [
       "<div>\n",
       "<style scoped>\n",
       "    .dataframe tbody tr th:only-of-type {\n",
       "        vertical-align: middle;\n",
       "    }\n",
       "\n",
       "    .dataframe tbody tr th {\n",
       "        vertical-align: top;\n",
       "    }\n",
       "\n",
       "    .dataframe thead th {\n",
       "        text-align: right;\n",
       "    }\n",
       "</style>\n",
       "<table border=\"1\" class=\"dataframe\">\n",
       "  <thead>\n",
       "    <tr style=\"text-align: right;\">\n",
       "      <th></th>\n",
       "      <th>Product</th>\n",
       "      <th>Age</th>\n",
       "      <th>Gender</th>\n",
       "      <th>Education</th>\n",
       "      <th>MaritalStatus</th>\n",
       "      <th>Usage</th>\n",
       "      <th>Fitness</th>\n",
       "      <th>Income</th>\n",
       "      <th>Miles</th>\n",
       "    </tr>\n",
       "  </thead>\n",
       "  <tbody>\n",
       "    <tr>\n",
       "      <th>0</th>\n",
       "      <td>KP281</td>\n",
       "      <td>18</td>\n",
       "      <td>Male</td>\n",
       "      <td>14</td>\n",
       "      <td>Single</td>\n",
       "      <td>3</td>\n",
       "      <td>4</td>\n",
       "      <td>29562</td>\n",
       "      <td>112</td>\n",
       "    </tr>\n",
       "    <tr>\n",
       "      <th>1</th>\n",
       "      <td>KP281</td>\n",
       "      <td>19</td>\n",
       "      <td>Male</td>\n",
       "      <td>15</td>\n",
       "      <td>Single</td>\n",
       "      <td>2</td>\n",
       "      <td>3</td>\n",
       "      <td>31836</td>\n",
       "      <td>75</td>\n",
       "    </tr>\n",
       "    <tr>\n",
       "      <th>2</th>\n",
       "      <td>KP281</td>\n",
       "      <td>19</td>\n",
       "      <td>Female</td>\n",
       "      <td>14</td>\n",
       "      <td>Partnered</td>\n",
       "      <td>4</td>\n",
       "      <td>3</td>\n",
       "      <td>30699</td>\n",
       "      <td>66</td>\n",
       "    </tr>\n",
       "    <tr>\n",
       "      <th>3</th>\n",
       "      <td>KP281</td>\n",
       "      <td>19</td>\n",
       "      <td>Male</td>\n",
       "      <td>12</td>\n",
       "      <td>Single</td>\n",
       "      <td>3</td>\n",
       "      <td>3</td>\n",
       "      <td>32973</td>\n",
       "      <td>85</td>\n",
       "    </tr>\n",
       "    <tr>\n",
       "      <th>4</th>\n",
       "      <td>KP281</td>\n",
       "      <td>20</td>\n",
       "      <td>Male</td>\n",
       "      <td>13</td>\n",
       "      <td>Partnered</td>\n",
       "      <td>4</td>\n",
       "      <td>2</td>\n",
       "      <td>35247</td>\n",
       "      <td>47</td>\n",
       "    </tr>\n",
       "  </tbody>\n",
       "</table>\n",
       "</div>"
      ],
      "text/plain": [
       "  Product  Age  Gender  Education MaritalStatus  Usage  Fitness  Income  Miles\n",
       "0   KP281   18    Male         14        Single      3        4   29562    112\n",
       "1   KP281   19    Male         15        Single      2        3   31836     75\n",
       "2   KP281   19  Female         14     Partnered      4        3   30699     66\n",
       "3   KP281   19    Male         12        Single      3        3   32973     85\n",
       "4   KP281   20    Male         13     Partnered      4        2   35247     47"
      ]
     },
     "execution_count": 29,
     "metadata": {},
     "output_type": "execute_result"
    }
   ],
   "source": [
    "aerofit.head()"
   ]
  },
  {
   "cell_type": "code",
   "execution_count": 36,
   "id": "41660dad",
   "metadata": {},
   "outputs": [
    {
     "data": {
      "image/png": "[encoded data removed]",
      "text/plain": [
       "<Figure size 1440x720 with 6 Axes>"
      ]
     },
     "metadata": {
      "needs_background": "light"
     },
     "output_type": "display_data"
    }
   ],
   "source": [
    "plt.figure(figsize=(20,10))\n",
    "plt.subplot(2,3, 1)\n",
    "\n",
    "sns.boxplot(data=aerofit,x=\"Gender\",y=\"Age\",hue=\"Product\")\n",
    "plt.title(\"Age distribution according to Gender\")\n",
    "\n",
    "plt.subplot(2,3, 2)\n",
    "sns.boxplot(data=aerofit,x=\"Gender\",y=\"Education\",hue=\"Product\")\n",
    "plt.title(\"Education level distribution according to Gender\")\n",
    "\n",
    "plt.subplot(2,3, 3)\n",
    "sns.boxplot(data=aerofit,x=\"Gender\",y=\"Usage\",hue=\"Product\")\n",
    "plt.title(\"Usage levels distribution according to Gender\")\n",
    "\n",
    "plt.subplot(2,3, 4)\n",
    "sns.boxplot(data=aerofit,x=\"Gender\",y=\"Fitness\",hue=\"Product\")\n",
    "plt.title(\"Fitness level distribution according to Gender\")\n",
    "\n",
    "plt.subplot(2,3, 5)\n",
    "sns.boxplot(data=aerofit,x=\"Gender\",y=\"Income\",hue=\"Product\")\n",
    "plt.title(\"Income level distribution according to Gender\")\n",
    "\n",
    "plt.subplot(2,3, 6)\n",
    "sns.boxplot(data=aerofit,x=\"Gender\",y=\"Miles\",hue=\"Product\")\n",
    "plt.title(\"Miles covered distribution according to Gender\")\n",
    "\n",
    "plt.suptitle(\"Gender and Product wise distribution of metrics\")\n",
    "plt.show()\n",
    "\n"
   ]
  },
  {
   "cell_type": "markdown",
   "id": "30a8c80a",
   "metadata": {},
   "source": [
    "# Checking on effects of metrics on product purchased"
   ]
  },
  {
   "cell_type": "code",
   "execution_count": 62,
   "id": "bb27c445",
   "metadata": {},
   "outputs": [
    {
     "data": {
      "text/plain": [
       "Text(0.5, 1.0, 'Age effect on product purchased')"
      ]
     },
     "execution_count": 62,
     "metadata": {},
     "output_type": "execute_result"
    },
    {
     "data": {
      "image/png": "[encoded data removed]",
      "text/plain": [
       "<Figure size 1440x720 with 5 Axes>"
      ]
     },
     "metadata": {
      "needs_background": "light"
     },
     "output_type": "display_data"
    }
   ],
   "source": [
    "plt.figure(figsize=(20,10))\n",
    "plt.subplot(2,3, 1)\n",
    "\n",
    "sns.countplot(data=aerofit,x=\"MaritalStatus\",hue=\"Product\")\n",
    "plt.title(\"MaritalStatus effect on product purchased\")\n",
    "\n",
    "plt.subplot(2,3, 2)\n",
    "sns.countplot(data=aerofit,x=\"Gender\",hue=\"Product\")\n",
    "plt.title(\"Gender effect on product purchased\")\n",
    "\n",
    "plt.subplot(2,3, 3)\n",
    "sns.histplot(data=aerofit,x=\"Age\",binwidth=5,hue=\"Product\",palette=\"dark\")\n",
    "plt.title(\"Age effect on product purchased\")\n",
    "\n",
    "plt.subplot(2,3, 4)\n",
    "sns.countplot(data=aerofit,x=\"Fitness\",hue=\"Product\")\n",
    "plt.title(\"Fitness effect on product purchased\")\n",
    "\n",
    "\n",
    "plt.subplot(2,3, 5)\n",
    "sns.histplot(data=aerofit,x=\"Income\",binwidth=25000,hue=\"Product\",palette=\"dark\")\n",
    "plt.title(\"Age effect on product purchased\")"
   ]
  },
  {
   "cell_type": "markdown",
   "id": "f5e4b40f",
   "metadata": {},
   "source": [
    "# Crosstabs"
   ]
  },
  {
   "cell_type": "code",
   "execution_count": 83,
   "id": "b37816d5",
   "metadata": {},
   "outputs": [
    {
     "data": {
      "text/html": [
       "<div>\n",
       "<style scoped>\n",
       "    .dataframe tbody tr th:only-of-type {\n",
       "        vertical-align: middle;\n",
       "    }\n",
       "\n",
       "    .dataframe tbody tr th {\n",
       "        vertical-align: top;\n",
       "    }\n",
       "\n",
       "    .dataframe thead th {\n",
       "        text-align: right;\n",
       "    }\n",
       "</style>\n",
       "<table border=\"1\" class=\"dataframe\">\n",
       "  <thead>\n",
       "    <tr style=\"text-align: right;\">\n",
       "      <th>Gender</th>\n",
       "      <th>Female</th>\n",
       "      <th>Male</th>\n",
       "    </tr>\n",
       "    <tr>\n",
       "      <th>Product</th>\n",
       "      <th></th>\n",
       "      <th></th>\n",
       "    </tr>\n",
       "  </thead>\n",
       "  <tbody>\n",
       "    <tr>\n",
       "      <th>KP281</th>\n",
       "      <td>22.222222</td>\n",
       "      <td>22.222222</td>\n",
       "    </tr>\n",
       "    <tr>\n",
       "      <th>KP481</th>\n",
       "      <td>16.111111</td>\n",
       "      <td>17.222222</td>\n",
       "    </tr>\n",
       "    <tr>\n",
       "      <th>KP781</th>\n",
       "      <td>3.888889</td>\n",
       "      <td>18.333333</td>\n",
       "    </tr>\n",
       "  </tbody>\n",
       "</table>\n",
       "</div>"
      ],
      "text/plain": [
       "Gender      Female       Male\n",
       "Product                      \n",
       "KP281    22.222222  22.222222\n",
       "KP481    16.111111  17.222222\n",
       "KP781     3.888889  18.333333"
      ]
     },
     "execution_count": 83,
     "metadata": {},
     "output_type": "execute_result"
    }
   ],
   "source": [
    "#Total probability of products\n",
    "pd.crosstab(aerofit[\"Product\"],aerofit[\"Gender\"],normalize=True)*100\n",
    "\n"
   ]
  },
  {
   "cell_type": "code",
   "execution_count": 82,
   "id": "77c6bf98",
   "metadata": {},
   "outputs": [
    {
     "data": {
      "text/html": [
       "<div>\n",
       "<style scoped>\n",
       "    .dataframe tbody tr th:only-of-type {\n",
       "        vertical-align: middle;\n",
       "    }\n",
       "\n",
       "    .dataframe tbody tr th {\n",
       "        vertical-align: top;\n",
       "    }\n",
       "\n",
       "    .dataframe thead th {\n",
       "        text-align: right;\n",
       "    }\n",
       "</style>\n",
       "<table border=\"1\" class=\"dataframe\">\n",
       "  <thead>\n",
       "    <tr style=\"text-align: right;\">\n",
       "      <th>Gender</th>\n",
       "      <th>Female</th>\n",
       "      <th>Male</th>\n",
       "    </tr>\n",
       "    <tr>\n",
       "      <th>Product</th>\n",
       "      <th></th>\n",
       "      <th></th>\n",
       "    </tr>\n",
       "  </thead>\n",
       "  <tbody>\n",
       "    <tr>\n",
       "      <th>KP281</th>\n",
       "      <td>52.631579</td>\n",
       "      <td>38.461538</td>\n",
       "    </tr>\n",
       "    <tr>\n",
       "      <th>KP481</th>\n",
       "      <td>38.157895</td>\n",
       "      <td>29.807692</td>\n",
       "    </tr>\n",
       "    <tr>\n",
       "      <th>KP781</th>\n",
       "      <td>9.210526</td>\n",
       "      <td>31.730769</td>\n",
       "    </tr>\n",
       "  </tbody>\n",
       "</table>\n",
       "</div>"
      ],
      "text/plain": [
       "Gender      Female       Male\n",
       "Product                      \n",
       "KP281    52.631579  38.461538\n",
       "KP481    38.157895  29.807692\n",
       "KP781     9.210526  31.730769"
      ]
     },
     "execution_count": 82,
     "metadata": {},
     "output_type": "execute_result"
    }
   ],
   "source": [
    "#total probability of product given the gender(M/F) \n",
    "pd.crosstab(aerofit[\"Product\"],aerofit[\"Gender\"],normalize='columns')*100"
   ]
  },
  {
   "cell_type": "code",
   "execution_count": 81,
   "id": "1a54f379",
   "metadata": {},
   "outputs": [
    {
     "data": {
      "text/html": [
       "<div>\n",
       "<style scoped>\n",
       "    .dataframe tbody tr th:only-of-type {\n",
       "        vertical-align: middle;\n",
       "    }\n",
       "\n",
       "    .dataframe tbody tr th {\n",
       "        vertical-align: top;\n",
       "    }\n",
       "\n",
       "    .dataframe thead th {\n",
       "        text-align: right;\n",
       "    }\n",
       "</style>\n",
       "<table border=\"1\" class=\"dataframe\">\n",
       "  <thead>\n",
       "    <tr style=\"text-align: right;\">\n",
       "      <th>Gender</th>\n",
       "      <th>Female</th>\n",
       "      <th>Male</th>\n",
       "    </tr>\n",
       "    <tr>\n",
       "      <th>Product</th>\n",
       "      <th></th>\n",
       "      <th></th>\n",
       "    </tr>\n",
       "  </thead>\n",
       "  <tbody>\n",
       "    <tr>\n",
       "      <th>KP281</th>\n",
       "      <td>50.000000</td>\n",
       "      <td>50.000000</td>\n",
       "    </tr>\n",
       "    <tr>\n",
       "      <th>KP481</th>\n",
       "      <td>48.333333</td>\n",
       "      <td>51.666667</td>\n",
       "    </tr>\n",
       "    <tr>\n",
       "      <th>KP781</th>\n",
       "      <td>17.500000</td>\n",
       "      <td>82.500000</td>\n",
       "    </tr>\n",
       "  </tbody>\n",
       "</table>\n",
       "</div>"
      ],
      "text/plain": [
       "Gender      Female       Male\n",
       "Product                      \n",
       "KP281    50.000000  50.000000\n",
       "KP481    48.333333  51.666667\n",
       "KP781    17.500000  82.500000"
      ]
     },
     "execution_count": 81,
     "metadata": {},
     "output_type": "execute_result"
    }
   ],
   "source": [
    "#total probability for each product for each gender\n",
    "pd.crosstab(aerofit[\"Product\"],aerofit[\"Gender\"],normalize='index')*100"
   ]
  },
  {
   "cell_type": "code",
   "execution_count": 80,
   "id": "1e020faa",
   "metadata": {},
   "outputs": [
    {
     "data": {
      "text/html": [
       "<div>\n",
       "<style scoped>\n",
       "    .dataframe tbody tr th:only-of-type {\n",
       "        vertical-align: middle;\n",
       "    }\n",
       "\n",
       "    .dataframe tbody tr th {\n",
       "        vertical-align: top;\n",
       "    }\n",
       "\n",
       "    .dataframe thead th {\n",
       "        text-align: right;\n",
       "    }\n",
       "</style>\n",
       "<table border=\"1\" class=\"dataframe\">\n",
       "  <thead>\n",
       "    <tr style=\"text-align: right;\">\n",
       "      <th>MaritalStatus</th>\n",
       "      <th>Partnered</th>\n",
       "      <th>Single</th>\n",
       "    </tr>\n",
       "    <tr>\n",
       "      <th>Product</th>\n",
       "      <th></th>\n",
       "      <th></th>\n",
       "    </tr>\n",
       "  </thead>\n",
       "  <tbody>\n",
       "    <tr>\n",
       "      <th>KP281</th>\n",
       "      <td>26.666667</td>\n",
       "      <td>17.777778</td>\n",
       "    </tr>\n",
       "    <tr>\n",
       "      <th>KP481</th>\n",
       "      <td>20.000000</td>\n",
       "      <td>13.333333</td>\n",
       "    </tr>\n",
       "    <tr>\n",
       "      <th>KP781</th>\n",
       "      <td>12.777778</td>\n",
       "      <td>9.444444</td>\n",
       "    </tr>\n",
       "  </tbody>\n",
       "</table>\n",
       "</div>"
      ],
      "text/plain": [
       "MaritalStatus  Partnered     Single\n",
       "Product                            \n",
       "KP281          26.666667  17.777778\n",
       "KP481          20.000000  13.333333\n",
       "KP781          12.777778   9.444444"
      ]
     },
     "execution_count": 80,
     "metadata": {},
     "output_type": "execute_result"
    }
   ],
   "source": [
    "#total probability\n",
    "pd.crosstab(aerofit[\"Product\"],aerofit[\"MaritalStatus\"],normalize=True)*100"
   ]
  },
  {
   "cell_type": "code",
   "execution_count": 79,
   "id": "50eb814c",
   "metadata": {},
   "outputs": [
    {
     "data": {
      "text/html": [
       "<div>\n",
       "<style scoped>\n",
       "    .dataframe tbody tr th:only-of-type {\n",
       "        vertical-align: middle;\n",
       "    }\n",
       "\n",
       "    .dataframe tbody tr th {\n",
       "        vertical-align: top;\n",
       "    }\n",
       "\n",
       "    .dataframe thead th {\n",
       "        text-align: right;\n",
       "    }\n",
       "</style>\n",
       "<table border=\"1\" class=\"dataframe\">\n",
       "  <thead>\n",
       "    <tr style=\"text-align: right;\">\n",
       "      <th>MaritalStatus</th>\n",
       "      <th>Partnered</th>\n",
       "      <th>Single</th>\n",
       "    </tr>\n",
       "    <tr>\n",
       "      <th>Product</th>\n",
       "      <th></th>\n",
       "      <th></th>\n",
       "    </tr>\n",
       "  </thead>\n",
       "  <tbody>\n",
       "    <tr>\n",
       "      <th>KP281</th>\n",
       "      <td>44.859813</td>\n",
       "      <td>43.835616</td>\n",
       "    </tr>\n",
       "    <tr>\n",
       "      <th>KP481</th>\n",
       "      <td>33.644860</td>\n",
       "      <td>32.876712</td>\n",
       "    </tr>\n",
       "    <tr>\n",
       "      <th>KP781</th>\n",
       "      <td>21.495327</td>\n",
       "      <td>23.287671</td>\n",
       "    </tr>\n",
       "  </tbody>\n",
       "</table>\n",
       "</div>"
      ],
      "text/plain": [
       "MaritalStatus  Partnered     Single\n",
       "Product                            \n",
       "KP281          44.859813  43.835616\n",
       "KP481          33.644860  32.876712\n",
       "KP781          21.495327  23.287671"
      ]
     },
     "execution_count": 79,
     "metadata": {},
     "output_type": "execute_result"
    }
   ],
   "source": [
    "#total probability for each product given marital status(married or single)\n",
    "pd.crosstab(aerofit[\"Product\"],aerofit[\"MaritalStatus\"],normalize='columns')*100"
   ]
  },
  {
   "cell_type": "code",
   "execution_count": 78,
   "id": "37a08b30",
   "metadata": {},
   "outputs": [
    {
     "data": {
      "text/html": [
       "<div>\n",
       "<style scoped>\n",
       "    .dataframe tbody tr th:only-of-type {\n",
       "        vertical-align: middle;\n",
       "    }\n",
       "\n",
       "    .dataframe tbody tr th {\n",
       "        vertical-align: top;\n",
       "    }\n",
       "\n",
       "    .dataframe thead th {\n",
       "        text-align: right;\n",
       "    }\n",
       "</style>\n",
       "<table border=\"1\" class=\"dataframe\">\n",
       "  <thead>\n",
       "    <tr style=\"text-align: right;\">\n",
       "      <th>MaritalStatus</th>\n",
       "      <th>Partnered</th>\n",
       "      <th>Single</th>\n",
       "    </tr>\n",
       "    <tr>\n",
       "      <th>Product</th>\n",
       "      <th></th>\n",
       "      <th></th>\n",
       "    </tr>\n",
       "  </thead>\n",
       "  <tbody>\n",
       "    <tr>\n",
       "      <th>KP281</th>\n",
       "      <td>60.0</td>\n",
       "      <td>40.0</td>\n",
       "    </tr>\n",
       "    <tr>\n",
       "      <th>KP481</th>\n",
       "      <td>60.0</td>\n",
       "      <td>40.0</td>\n",
       "    </tr>\n",
       "    <tr>\n",
       "      <th>KP781</th>\n",
       "      <td>57.5</td>\n",
       "      <td>42.5</td>\n",
       "    </tr>\n",
       "  </tbody>\n",
       "</table>\n",
       "</div>"
      ],
      "text/plain": [
       "MaritalStatus  Partnered  Single\n",
       "Product                         \n",
       "KP281               60.0    40.0\n",
       "KP481               60.0    40.0\n",
       "KP781               57.5    42.5"
      ]
     },
     "execution_count": 78,
     "metadata": {},
     "output_type": "execute_result"
    }
   ],
   "source": [
    "#total probability for each product for each marital status\n",
    "pd.crosstab(aerofit[\"Product\"],aerofit[\"MaritalStatus\"],normalize='index')*100"
   ]
  },
  {
   "cell_type": "code",
   "execution_count": 99,
   "id": "babde62b",
   "metadata": {},
   "outputs": [
    {
     "data": {
      "text/html": [
       "<div>\n",
       "<style scoped>\n",
       "    .dataframe tbody tr th:only-of-type {\n",
       "        vertical-align: middle;\n",
       "    }\n",
       "\n",
       "    .dataframe tbody tr th {\n",
       "        vertical-align: top;\n",
       "    }\n",
       "\n",
       "    .dataframe thead th {\n",
       "        text-align: right;\n",
       "    }\n",
       "</style>\n",
       "<table border=\"1\" class=\"dataframe\">\n",
       "  <thead>\n",
       "    <tr style=\"text-align: right;\">\n",
       "      <th>Fitness</th>\n",
       "      <th>1</th>\n",
       "      <th>2</th>\n",
       "      <th>3</th>\n",
       "      <th>4</th>\n",
       "      <th>5</th>\n",
       "    </tr>\n",
       "    <tr>\n",
       "      <th>Product</th>\n",
       "      <th></th>\n",
       "      <th></th>\n",
       "      <th></th>\n",
       "      <th></th>\n",
       "      <th></th>\n",
       "    </tr>\n",
       "  </thead>\n",
       "  <tbody>\n",
       "    <tr>\n",
       "      <th>KP281</th>\n",
       "      <td>0.555556</td>\n",
       "      <td>7.777778</td>\n",
       "      <td>30.000000</td>\n",
       "      <td>5.000000</td>\n",
       "      <td>1.111111</td>\n",
       "    </tr>\n",
       "    <tr>\n",
       "      <th>KP481</th>\n",
       "      <td>0.555556</td>\n",
       "      <td>6.666667</td>\n",
       "      <td>21.666667</td>\n",
       "      <td>4.444444</td>\n",
       "      <td>0.000000</td>\n",
       "    </tr>\n",
       "    <tr>\n",
       "      <th>KP781</th>\n",
       "      <td>0.000000</td>\n",
       "      <td>0.000000</td>\n",
       "      <td>2.222222</td>\n",
       "      <td>3.888889</td>\n",
       "      <td>16.111111</td>\n",
       "    </tr>\n",
       "  </tbody>\n",
       "</table>\n",
       "</div>"
      ],
      "text/plain": [
       "Fitness         1         2          3         4          5\n",
       "Product                                                    \n",
       "KP281    0.555556  7.777778  30.000000  5.000000   1.111111\n",
       "KP481    0.555556  6.666667  21.666667  4.444444   0.000000\n",
       "KP781    0.000000  0.000000   2.222222  3.888889  16.111111"
      ]
     },
     "execution_count": 99,
     "metadata": {},
     "output_type": "execute_result"
    }
   ],
   "source": [
    "#Total probability with respect to Fitness and Product\n",
    "pd.crosstab(aerofit[\"Product\"],aerofit[\"Fitness\"],normalize=True)*100"
   ]
  },
  {
   "cell_type": "code",
   "execution_count": 100,
   "id": "03b6e80c",
   "metadata": {},
   "outputs": [
    {
     "data": {
      "text/html": [
       "<div>\n",
       "<style scoped>\n",
       "    .dataframe tbody tr th:only-of-type {\n",
       "        vertical-align: middle;\n",
       "    }\n",
       "\n",
       "    .dataframe tbody tr th {\n",
       "        vertical-align: top;\n",
       "    }\n",
       "\n",
       "    .dataframe thead th {\n",
       "        text-align: right;\n",
       "    }\n",
       "</style>\n",
       "<table border=\"1\" class=\"dataframe\">\n",
       "  <thead>\n",
       "    <tr style=\"text-align: right;\">\n",
       "      <th>Fitness</th>\n",
       "      <th>1</th>\n",
       "      <th>2</th>\n",
       "      <th>3</th>\n",
       "      <th>4</th>\n",
       "      <th>5</th>\n",
       "    </tr>\n",
       "    <tr>\n",
       "      <th>Product</th>\n",
       "      <th></th>\n",
       "      <th></th>\n",
       "      <th></th>\n",
       "      <th></th>\n",
       "      <th></th>\n",
       "    </tr>\n",
       "  </thead>\n",
       "  <tbody>\n",
       "    <tr>\n",
       "      <th>KP281</th>\n",
       "      <td>50.0</td>\n",
       "      <td>53.846154</td>\n",
       "      <td>55.670103</td>\n",
       "      <td>37.500000</td>\n",
       "      <td>6.451613</td>\n",
       "    </tr>\n",
       "    <tr>\n",
       "      <th>KP481</th>\n",
       "      <td>50.0</td>\n",
       "      <td>46.153846</td>\n",
       "      <td>40.206186</td>\n",
       "      <td>33.333333</td>\n",
       "      <td>0.000000</td>\n",
       "    </tr>\n",
       "    <tr>\n",
       "      <th>KP781</th>\n",
       "      <td>0.0</td>\n",
       "      <td>0.000000</td>\n",
       "      <td>4.123711</td>\n",
       "      <td>29.166667</td>\n",
       "      <td>93.548387</td>\n",
       "    </tr>\n",
       "  </tbody>\n",
       "</table>\n",
       "</div>"
      ],
      "text/plain": [
       "Fitness     1          2          3          4          5\n",
       "Product                                                  \n",
       "KP281    50.0  53.846154  55.670103  37.500000   6.451613\n",
       "KP481    50.0  46.153846  40.206186  33.333333   0.000000\n",
       "KP781     0.0   0.000000   4.123711  29.166667  93.548387"
      ]
     },
     "execution_count": 100,
     "metadata": {},
     "output_type": "execute_result"
    }
   ],
   "source": [
    "#Product proability for Fitness levels\n",
    "pd.crosstab(aerofit[\"Product\"],aerofit[\"Fitness\"],normalize='columns')*100"
   ]
  },
  {
   "cell_type": "code",
   "execution_count": 101,
   "id": "ad366e56",
   "metadata": {},
   "outputs": [
    {
     "data": {
      "text/html": [
       "<div>\n",
       "<style scoped>\n",
       "    .dataframe tbody tr th:only-of-type {\n",
       "        vertical-align: middle;\n",
       "    }\n",
       "\n",
       "    .dataframe tbody tr th {\n",
       "        vertical-align: top;\n",
       "    }\n",
       "\n",
       "    .dataframe thead th {\n",
       "        text-align: right;\n",
       "    }\n",
       "</style>\n",
       "<table border=\"1\" class=\"dataframe\">\n",
       "  <thead>\n",
       "    <tr style=\"text-align: right;\">\n",
       "      <th>Fitness</th>\n",
       "      <th>1</th>\n",
       "      <th>2</th>\n",
       "      <th>3</th>\n",
       "      <th>4</th>\n",
       "      <th>5</th>\n",
       "    </tr>\n",
       "    <tr>\n",
       "      <th>Product</th>\n",
       "      <th></th>\n",
       "      <th></th>\n",
       "      <th></th>\n",
       "      <th></th>\n",
       "      <th></th>\n",
       "    </tr>\n",
       "  </thead>\n",
       "  <tbody>\n",
       "    <tr>\n",
       "      <th>KP281</th>\n",
       "      <td>1.250000</td>\n",
       "      <td>17.5</td>\n",
       "      <td>67.5</td>\n",
       "      <td>11.250000</td>\n",
       "      <td>2.5</td>\n",
       "    </tr>\n",
       "    <tr>\n",
       "      <th>KP481</th>\n",
       "      <td>1.666667</td>\n",
       "      <td>20.0</td>\n",
       "      <td>65.0</td>\n",
       "      <td>13.333333</td>\n",
       "      <td>0.0</td>\n",
       "    </tr>\n",
       "    <tr>\n",
       "      <th>KP781</th>\n",
       "      <td>0.000000</td>\n",
       "      <td>0.0</td>\n",
       "      <td>10.0</td>\n",
       "      <td>17.500000</td>\n",
       "      <td>72.5</td>\n",
       "    </tr>\n",
       "  </tbody>\n",
       "</table>\n",
       "</div>"
      ],
      "text/plain": [
       "Fitness         1     2     3          4     5\n",
       "Product                                       \n",
       "KP281    1.250000  17.5  67.5  11.250000   2.5\n",
       "KP481    1.666667  20.0  65.0  13.333333   0.0\n",
       "KP781    0.000000   0.0  10.0  17.500000  72.5"
      ]
     },
     "execution_count": 101,
     "metadata": {},
     "output_type": "execute_result"
    }
   ],
   "source": [
    "#Fitness level probability for Product\n",
    "pd.crosstab(aerofit[\"Product\"],aerofit[\"Fitness\"],normalize='index')*100"
   ]
  },
  {
   "cell_type": "code",
   "execution_count": 102,
   "id": "b2d362fa",
   "metadata": {},
   "outputs": [
    {
     "data": {
      "text/html": [
       "<div>\n",
       "<style scoped>\n",
       "    .dataframe tbody tr th:only-of-type {\n",
       "        vertical-align: middle;\n",
       "    }\n",
       "\n",
       "    .dataframe tbody tr th {\n",
       "        vertical-align: top;\n",
       "    }\n",
       "\n",
       "    .dataframe thead th {\n",
       "        text-align: right;\n",
       "    }\n",
       "</style>\n",
       "<table border=\"1\" class=\"dataframe\">\n",
       "  <thead>\n",
       "    <tr style=\"text-align: right;\">\n",
       "      <th>Usage</th>\n",
       "      <th>2</th>\n",
       "      <th>3</th>\n",
       "      <th>4</th>\n",
       "      <th>5</th>\n",
       "      <th>6</th>\n",
       "      <th>7</th>\n",
       "    </tr>\n",
       "    <tr>\n",
       "      <th>Product</th>\n",
       "      <th></th>\n",
       "      <th></th>\n",
       "      <th></th>\n",
       "      <th></th>\n",
       "      <th></th>\n",
       "      <th></th>\n",
       "    </tr>\n",
       "  </thead>\n",
       "  <tbody>\n",
       "    <tr>\n",
       "      <th>KP281</th>\n",
       "      <td>10.555556</td>\n",
       "      <td>20.555556</td>\n",
       "      <td>12.222222</td>\n",
       "      <td>1.111111</td>\n",
       "      <td>0.000000</td>\n",
       "      <td>0.000000</td>\n",
       "    </tr>\n",
       "    <tr>\n",
       "      <th>KP481</th>\n",
       "      <td>7.777778</td>\n",
       "      <td>17.222222</td>\n",
       "      <td>6.666667</td>\n",
       "      <td>1.666667</td>\n",
       "      <td>0.000000</td>\n",
       "      <td>0.000000</td>\n",
       "    </tr>\n",
       "    <tr>\n",
       "      <th>KP781</th>\n",
       "      <td>0.000000</td>\n",
       "      <td>0.555556</td>\n",
       "      <td>10.000000</td>\n",
       "      <td>6.666667</td>\n",
       "      <td>3.888889</td>\n",
       "      <td>1.111111</td>\n",
       "    </tr>\n",
       "  </tbody>\n",
       "</table>\n",
       "</div>"
      ],
      "text/plain": [
       "Usage            2          3          4         5         6         7\n",
       "Product                                                               \n",
       "KP281    10.555556  20.555556  12.222222  1.111111  0.000000  0.000000\n",
       "KP481     7.777778  17.222222   6.666667  1.666667  0.000000  0.000000\n",
       "KP781     0.000000   0.555556  10.000000  6.666667  3.888889  1.111111"
      ]
     },
     "execution_count": 102,
     "metadata": {},
     "output_type": "execute_result"
    }
   ],
   "source": [
    "#Total probability for Usage and Product\n",
    "pd.crosstab(aerofit[\"Product\"],aerofit[\"Usage\"],normalize=True)*100"
   ]
  },
  {
   "cell_type": "code",
   "execution_count": 103,
   "id": "43335917",
   "metadata": {},
   "outputs": [
    {
     "data": {
      "text/html": [
       "<div>\n",
       "<style scoped>\n",
       "    .dataframe tbody tr th:only-of-type {\n",
       "        vertical-align: middle;\n",
       "    }\n",
       "\n",
       "    .dataframe tbody tr th {\n",
       "        vertical-align: top;\n",
       "    }\n",
       "\n",
       "    .dataframe thead th {\n",
       "        text-align: right;\n",
       "    }\n",
       "</style>\n",
       "<table border=\"1\" class=\"dataframe\">\n",
       "  <thead>\n",
       "    <tr style=\"text-align: right;\">\n",
       "      <th>Usage</th>\n",
       "      <th>2</th>\n",
       "      <th>3</th>\n",
       "      <th>4</th>\n",
       "      <th>5</th>\n",
       "      <th>6</th>\n",
       "      <th>7</th>\n",
       "    </tr>\n",
       "    <tr>\n",
       "      <th>Product</th>\n",
       "      <th></th>\n",
       "      <th></th>\n",
       "      <th></th>\n",
       "      <th></th>\n",
       "      <th></th>\n",
       "      <th></th>\n",
       "    </tr>\n",
       "  </thead>\n",
       "  <tbody>\n",
       "    <tr>\n",
       "      <th>KP281</th>\n",
       "      <td>57.575758</td>\n",
       "      <td>53.623188</td>\n",
       "      <td>42.307692</td>\n",
       "      <td>11.764706</td>\n",
       "      <td>0.0</td>\n",
       "      <td>0.0</td>\n",
       "    </tr>\n",
       "    <tr>\n",
       "      <th>KP481</th>\n",
       "      <td>42.424242</td>\n",
       "      <td>44.927536</td>\n",
       "      <td>23.076923</td>\n",
       "      <td>17.647059</td>\n",
       "      <td>0.0</td>\n",
       "      <td>0.0</td>\n",
       "    </tr>\n",
       "    <tr>\n",
       "      <th>KP781</th>\n",
       "      <td>0.000000</td>\n",
       "      <td>1.449275</td>\n",
       "      <td>34.615385</td>\n",
       "      <td>70.588235</td>\n",
       "      <td>100.0</td>\n",
       "      <td>100.0</td>\n",
       "    </tr>\n",
       "  </tbody>\n",
       "</table>\n",
       "</div>"
      ],
      "text/plain": [
       "Usage            2          3          4          5      6      7\n",
       "Product                                                          \n",
       "KP281    57.575758  53.623188  42.307692  11.764706    0.0    0.0\n",
       "KP481    42.424242  44.927536  23.076923  17.647059    0.0    0.0\n",
       "KP781     0.000000   1.449275  34.615385  70.588235  100.0  100.0"
      ]
     },
     "execution_count": 103,
     "metadata": {},
     "output_type": "execute_result"
    }
   ],
   "source": [
    "#Product wise probability for Usage level\n",
    "pd.crosstab(aerofit[\"Product\"],aerofit[\"Usage\"],normalize='columns')*100"
   ]
  },
  {
   "cell_type": "code",
   "execution_count": 104,
   "id": "f8ef94c0",
   "metadata": {},
   "outputs": [
    {
     "data": {
      "text/html": [
       "<div>\n",
       "<style scoped>\n",
       "    .dataframe tbody tr th:only-of-type {\n",
       "        vertical-align: middle;\n",
       "    }\n",
       "\n",
       "    .dataframe tbody tr th {\n",
       "        vertical-align: top;\n",
       "    }\n",
       "\n",
       "    .dataframe thead th {\n",
       "        text-align: right;\n",
       "    }\n",
       "</style>\n",
       "<table border=\"1\" class=\"dataframe\">\n",
       "  <thead>\n",
       "    <tr style=\"text-align: right;\">\n",
       "      <th>Usage</th>\n",
       "      <th>2</th>\n",
       "      <th>3</th>\n",
       "      <th>4</th>\n",
       "      <th>5</th>\n",
       "      <th>6</th>\n",
       "      <th>7</th>\n",
       "    </tr>\n",
       "    <tr>\n",
       "      <th>Product</th>\n",
       "      <th></th>\n",
       "      <th></th>\n",
       "      <th></th>\n",
       "      <th></th>\n",
       "      <th></th>\n",
       "      <th></th>\n",
       "    </tr>\n",
       "  </thead>\n",
       "  <tbody>\n",
       "    <tr>\n",
       "      <th>KP281</th>\n",
       "      <td>23.750000</td>\n",
       "      <td>46.250000</td>\n",
       "      <td>27.5</td>\n",
       "      <td>2.5</td>\n",
       "      <td>0.0</td>\n",
       "      <td>0.0</td>\n",
       "    </tr>\n",
       "    <tr>\n",
       "      <th>KP481</th>\n",
       "      <td>23.333333</td>\n",
       "      <td>51.666667</td>\n",
       "      <td>20.0</td>\n",
       "      <td>5.0</td>\n",
       "      <td>0.0</td>\n",
       "      <td>0.0</td>\n",
       "    </tr>\n",
       "    <tr>\n",
       "      <th>KP781</th>\n",
       "      <td>0.000000</td>\n",
       "      <td>2.500000</td>\n",
       "      <td>45.0</td>\n",
       "      <td>30.0</td>\n",
       "      <td>17.5</td>\n",
       "      <td>5.0</td>\n",
       "    </tr>\n",
       "  </tbody>\n",
       "</table>\n",
       "</div>"
      ],
      "text/plain": [
       "Usage            2          3     4     5     6    7\n",
       "Product                                             \n",
       "KP281    23.750000  46.250000  27.5   2.5   0.0  0.0\n",
       "KP481    23.333333  51.666667  20.0   5.0   0.0  0.0\n",
       "KP781     0.000000   2.500000  45.0  30.0  17.5  5.0"
      ]
     },
     "execution_count": 104,
     "metadata": {},
     "output_type": "execute_result"
    }
   ],
   "source": [
    "#Usage level probability for Product \n",
    "pd.crosstab(aerofit[\"Product\"],aerofit[\"Usage\"],normalize='index')*100"
   ]
  },
  {
   "cell_type": "code",
   "execution_count": 109,
   "id": "c634bb47",
   "metadata": {},
   "outputs": [
    {
     "data": {
      "text/html": [
       "<div>\n",
       "<style scoped>\n",
       "    .dataframe tbody tr th:only-of-type {\n",
       "        vertical-align: middle;\n",
       "    }\n",
       "\n",
       "    .dataframe tbody tr th {\n",
       "        vertical-align: top;\n",
       "    }\n",
       "\n",
       "    .dataframe thead th {\n",
       "        text-align: right;\n",
       "    }\n",
       "</style>\n",
       "<table border=\"1\" class=\"dataframe\">\n",
       "  <thead>\n",
       "    <tr style=\"text-align: right;\">\n",
       "      <th>Income_band</th>\n",
       "      <th>100k+</th>\n",
       "      <th>25k-50k</th>\n",
       "      <th>50k-100k</th>\n",
       "    </tr>\n",
       "    <tr>\n",
       "      <th>Product</th>\n",
       "      <th></th>\n",
       "      <th></th>\n",
       "      <th></th>\n",
       "    </tr>\n",
       "  </thead>\n",
       "  <tbody>\n",
       "    <tr>\n",
       "      <th>KP281</th>\n",
       "      <td>0.000000</td>\n",
       "      <td>26.666667</td>\n",
       "      <td>17.777778</td>\n",
       "    </tr>\n",
       "    <tr>\n",
       "      <th>KP481</th>\n",
       "      <td>0.000000</td>\n",
       "      <td>16.666667</td>\n",
       "      <td>16.666667</td>\n",
       "    </tr>\n",
       "    <tr>\n",
       "      <th>KP781</th>\n",
       "      <td>1.666667</td>\n",
       "      <td>2.777778</td>\n",
       "      <td>17.777778</td>\n",
       "    </tr>\n",
       "  </tbody>\n",
       "</table>\n",
       "</div>"
      ],
      "text/plain": [
       "Income_band     100k+    25k-50k   50k-100k\n",
       "Product                                    \n",
       "KP281        0.000000  26.666667  17.777778\n",
       "KP481        0.000000  16.666667  16.666667\n",
       "KP781        1.666667   2.777778  17.777778"
      ]
     },
     "execution_count": 109,
     "metadata": {},
     "output_type": "execute_result"
    }
   ],
   "source": [
    "#Total probability with respect to Income band and Product\n",
    "def func(data):\n",
    "    if data<=25000:\n",
    "        return \"0-25k\"\n",
    "    elif data>25000 and data<=50000:\n",
    "        return \"25k-50k\"\n",
    "    elif data>50000 and data<=100000:\n",
    "        return \"50k-100k\"\n",
    "    else:\n",
    "        return \"100k+\"\n",
    "    \n",
    "aerofit[\"Income_band\"]=aerofit[\"Income\"].apply(func)\n",
    "\n",
    "\n",
    "pd.crosstab(aerofit[\"Product\"],aerofit[\"Income_band\"],normalize=True)*100"
   ]
  },
  {
   "cell_type": "code",
   "execution_count": 110,
   "id": "f3fcc3dd",
   "metadata": {},
   "outputs": [
    {
     "data": {
      "text/html": [
       "<div>\n",
       "<style scoped>\n",
       "    .dataframe tbody tr th:only-of-type {\n",
       "        vertical-align: middle;\n",
       "    }\n",
       "\n",
       "    .dataframe tbody tr th {\n",
       "        vertical-align: top;\n",
       "    }\n",
       "\n",
       "    .dataframe thead th {\n",
       "        text-align: right;\n",
       "    }\n",
       "</style>\n",
       "<table border=\"1\" class=\"dataframe\">\n",
       "  <thead>\n",
       "    <tr style=\"text-align: right;\">\n",
       "      <th>Income_band</th>\n",
       "      <th>100k+</th>\n",
       "      <th>25k-50k</th>\n",
       "      <th>50k-100k</th>\n",
       "    </tr>\n",
       "    <tr>\n",
       "      <th>Product</th>\n",
       "      <th></th>\n",
       "      <th></th>\n",
       "      <th></th>\n",
       "    </tr>\n",
       "  </thead>\n",
       "  <tbody>\n",
       "    <tr>\n",
       "      <th>KP281</th>\n",
       "      <td>0.0</td>\n",
       "      <td>57.831325</td>\n",
       "      <td>34.042553</td>\n",
       "    </tr>\n",
       "    <tr>\n",
       "      <th>KP481</th>\n",
       "      <td>0.0</td>\n",
       "      <td>36.144578</td>\n",
       "      <td>31.914894</td>\n",
       "    </tr>\n",
       "    <tr>\n",
       "      <th>KP781</th>\n",
       "      <td>100.0</td>\n",
       "      <td>6.024096</td>\n",
       "      <td>34.042553</td>\n",
       "    </tr>\n",
       "  </tbody>\n",
       "</table>\n",
       "</div>"
      ],
      "text/plain": [
       "Income_band  100k+    25k-50k   50k-100k\n",
       "Product                                 \n",
       "KP281          0.0  57.831325  34.042553\n",
       "KP481          0.0  36.144578  31.914894\n",
       "KP781        100.0   6.024096  34.042553"
      ]
     },
     "execution_count": 110,
     "metadata": {},
     "output_type": "execute_result"
    }
   ],
   "source": [
    "#Product wise Probability for Income Bands\n",
    "pd.crosstab(aerofit[\"Product\"],aerofit[\"Income_band\"],normalize='columns')*100"
   ]
  },
  {
   "cell_type": "code",
   "execution_count": 111,
   "id": "fa554905",
   "metadata": {},
   "outputs": [
    {
     "data": {
      "text/html": [
       "<div>\n",
       "<style scoped>\n",
       "    .dataframe tbody tr th:only-of-type {\n",
       "        vertical-align: middle;\n",
       "    }\n",
       "\n",
       "    .dataframe tbody tr th {\n",
       "        vertical-align: top;\n",
       "    }\n",
       "\n",
       "    .dataframe thead th {\n",
       "        text-align: right;\n",
       "    }\n",
       "</style>\n",
       "<table border=\"1\" class=\"dataframe\">\n",
       "  <thead>\n",
       "    <tr style=\"text-align: right;\">\n",
       "      <th>Income_band</th>\n",
       "      <th>100k+</th>\n",
       "      <th>25k-50k</th>\n",
       "      <th>50k-100k</th>\n",
       "    </tr>\n",
       "    <tr>\n",
       "      <th>Product</th>\n",
       "      <th></th>\n",
       "      <th></th>\n",
       "      <th></th>\n",
       "    </tr>\n",
       "  </thead>\n",
       "  <tbody>\n",
       "    <tr>\n",
       "      <th>KP281</th>\n",
       "      <td>0.0</td>\n",
       "      <td>60.0</td>\n",
       "      <td>40.0</td>\n",
       "    </tr>\n",
       "    <tr>\n",
       "      <th>KP481</th>\n",
       "      <td>0.0</td>\n",
       "      <td>50.0</td>\n",
       "      <td>50.0</td>\n",
       "    </tr>\n",
       "    <tr>\n",
       "      <th>KP781</th>\n",
       "      <td>7.5</td>\n",
       "      <td>12.5</td>\n",
       "      <td>80.0</td>\n",
       "    </tr>\n",
       "  </tbody>\n",
       "</table>\n",
       "</div>"
      ],
      "text/plain": [
       "Income_band  100k+  25k-50k  50k-100k\n",
       "Product                              \n",
       "KP281          0.0     60.0      40.0\n",
       "KP481          0.0     50.0      50.0\n",
       "KP781          7.5     12.5      80.0"
      ]
     },
     "execution_count": 111,
     "metadata": {},
     "output_type": "execute_result"
    }
   ],
   "source": [
    "#Income wise probability for Product\n",
    "pd.crosstab(aerofit[\"Product\"],aerofit[\"Income_band\"],normalize=\"index\")*100"
   ]
  },
  {
   "cell_type": "code",
   "execution_count": 112,
   "id": "47551505",
   "metadata": {},
   "outputs": [],
   "source": [
    "def func(data):\n",
    "    if data<=50:\n",
    "        return \"0-50\"\n",
    "    elif data>50 and data<=100:\n",
    "        return \"50-100\"\n",
    "    elif data>100 and data<=150:\n",
    "        return \"100-150\"\n",
    "    elif data>150 and data<=200:\n",
    "        return \"150-200\"\n",
    "    elif data>200 and data<=250:\n",
    "        return \"200-250\"\n",
    "    elif data>250 and data<=300:\n",
    "        return \"250-300\"\n",
    "    else:\n",
    "        return \"300+\"\n",
    "    \n",
    "aerofit[\"Miles_band\"]=aerofit[\"Miles\"].apply(func)"
   ]
  },
  {
   "cell_type": "code",
   "execution_count": 113,
   "id": "3097b613",
   "metadata": {},
   "outputs": [
    {
     "data": {
      "text/html": [
       "<div>\n",
       "<style scoped>\n",
       "    .dataframe tbody tr th:only-of-type {\n",
       "        vertical-align: middle;\n",
       "    }\n",
       "\n",
       "    .dataframe tbody tr th {\n",
       "        vertical-align: top;\n",
       "    }\n",
       "\n",
       "    .dataframe thead th {\n",
       "        text-align: right;\n",
       "    }\n",
       "</style>\n",
       "<table border=\"1\" class=\"dataframe\">\n",
       "  <thead>\n",
       "    <tr style=\"text-align: right;\">\n",
       "      <th>Miles_band</th>\n",
       "      <th>0-50</th>\n",
       "      <th>100-150</th>\n",
       "      <th>150-200</th>\n",
       "      <th>200-250</th>\n",
       "      <th>250-300</th>\n",
       "      <th>300+</th>\n",
       "      <th>50-100</th>\n",
       "    </tr>\n",
       "    <tr>\n",
       "      <th>Product</th>\n",
       "      <th></th>\n",
       "      <th></th>\n",
       "      <th></th>\n",
       "      <th></th>\n",
       "      <th></th>\n",
       "      <th></th>\n",
       "      <th></th>\n",
       "    </tr>\n",
       "  </thead>\n",
       "  <tbody>\n",
       "    <tr>\n",
       "      <th>KP281</th>\n",
       "      <td>6.666667</td>\n",
       "      <td>8.888889</td>\n",
       "      <td>1.111111</td>\n",
       "      <td>0.000000</td>\n",
       "      <td>0.000000</td>\n",
       "      <td>0.000000</td>\n",
       "      <td>27.777778</td>\n",
       "    </tr>\n",
       "    <tr>\n",
       "      <th>KP481</th>\n",
       "      <td>2.777778</td>\n",
       "      <td>7.222222</td>\n",
       "      <td>1.111111</td>\n",
       "      <td>0.555556</td>\n",
       "      <td>0.000000</td>\n",
       "      <td>0.000000</td>\n",
       "      <td>21.666667</td>\n",
       "    </tr>\n",
       "    <tr>\n",
       "      <th>KP781</th>\n",
       "      <td>0.000000</td>\n",
       "      <td>5.000000</td>\n",
       "      <td>10.000000</td>\n",
       "      <td>0.555556</td>\n",
       "      <td>1.666667</td>\n",
       "      <td>0.555556</td>\n",
       "      <td>4.444444</td>\n",
       "    </tr>\n",
       "  </tbody>\n",
       "</table>\n",
       "</div>"
      ],
      "text/plain": [
       "Miles_band      0-50   100-150    150-200   200-250   250-300      300+  \\\n",
       "Product                                                                   \n",
       "KP281       6.666667  8.888889   1.111111  0.000000  0.000000  0.000000   \n",
       "KP481       2.777778  7.222222   1.111111  0.555556  0.000000  0.000000   \n",
       "KP781       0.000000  5.000000  10.000000  0.555556  1.666667  0.555556   \n",
       "\n",
       "Miles_band     50-100  \n",
       "Product                \n",
       "KP281       27.777778  \n",
       "KP481       21.666667  \n",
       "KP781        4.444444  "
      ]
     },
     "execution_count": 113,
     "metadata": {},
     "output_type": "execute_result"
    }
   ],
   "source": [
    "# total probability with respect to Miles band and Product\n",
    "pd.crosstab(aerofit[\"Product\"],aerofit[\"Miles_band\"],normalize=True)*100"
   ]
  },
  {
   "cell_type": "code",
   "execution_count": 114,
   "id": "97e4bd27",
   "metadata": {},
   "outputs": [
    {
     "data": {
      "text/html": [
       "<div>\n",
       "<style scoped>\n",
       "    .dataframe tbody tr th:only-of-type {\n",
       "        vertical-align: middle;\n",
       "    }\n",
       "\n",
       "    .dataframe tbody tr th {\n",
       "        vertical-align: top;\n",
       "    }\n",
       "\n",
       "    .dataframe thead th {\n",
       "        text-align: right;\n",
       "    }\n",
       "</style>\n",
       "<table border=\"1\" class=\"dataframe\">\n",
       "  <thead>\n",
       "    <tr style=\"text-align: right;\">\n",
       "      <th>Miles_band</th>\n",
       "      <th>0-50</th>\n",
       "      <th>100-150</th>\n",
       "      <th>150-200</th>\n",
       "      <th>200-250</th>\n",
       "      <th>250-300</th>\n",
       "      <th>300+</th>\n",
       "      <th>50-100</th>\n",
       "    </tr>\n",
       "    <tr>\n",
       "      <th>Product</th>\n",
       "      <th></th>\n",
       "      <th></th>\n",
       "      <th></th>\n",
       "      <th></th>\n",
       "      <th></th>\n",
       "      <th></th>\n",
       "      <th></th>\n",
       "    </tr>\n",
       "  </thead>\n",
       "  <tbody>\n",
       "    <tr>\n",
       "      <th>KP281</th>\n",
       "      <td>70.588235</td>\n",
       "      <td>42.105263</td>\n",
       "      <td>9.090909</td>\n",
       "      <td>0.0</td>\n",
       "      <td>0.0</td>\n",
       "      <td>0.0</td>\n",
       "      <td>51.546392</td>\n",
       "    </tr>\n",
       "    <tr>\n",
       "      <th>KP481</th>\n",
       "      <td>29.411765</td>\n",
       "      <td>34.210526</td>\n",
       "      <td>9.090909</td>\n",
       "      <td>50.0</td>\n",
       "      <td>0.0</td>\n",
       "      <td>0.0</td>\n",
       "      <td>40.206186</td>\n",
       "    </tr>\n",
       "    <tr>\n",
       "      <th>KP781</th>\n",
       "      <td>0.000000</td>\n",
       "      <td>23.684211</td>\n",
       "      <td>81.818182</td>\n",
       "      <td>50.0</td>\n",
       "      <td>100.0</td>\n",
       "      <td>100.0</td>\n",
       "      <td>8.247423</td>\n",
       "    </tr>\n",
       "  </tbody>\n",
       "</table>\n",
       "</div>"
      ],
      "text/plain": [
       "Miles_band       0-50    100-150    150-200  200-250  250-300   300+  \\\n",
       "Product                                                                \n",
       "KP281       70.588235  42.105263   9.090909      0.0      0.0    0.0   \n",
       "KP481       29.411765  34.210526   9.090909     50.0      0.0    0.0   \n",
       "KP781        0.000000  23.684211  81.818182     50.0    100.0  100.0   \n",
       "\n",
       "Miles_band     50-100  \n",
       "Product                \n",
       "KP281       51.546392  \n",
       "KP481       40.206186  \n",
       "KP781        8.247423  "
      ]
     },
     "execution_count": 114,
     "metadata": {},
     "output_type": "execute_result"
    }
   ],
   "source": [
    "#Product wise probability for Miles band \n",
    "pd.crosstab(aerofit[\"Product\"],aerofit[\"Miles_band\"],normalize=\"columns\")*100"
   ]
  },
  {
   "cell_type": "code",
   "execution_count": 115,
   "id": "0f55421f",
   "metadata": {},
   "outputs": [
    {
     "data": {
      "text/html": [
       "<div>\n",
       "<style scoped>\n",
       "    .dataframe tbody tr th:only-of-type {\n",
       "        vertical-align: middle;\n",
       "    }\n",
       "\n",
       "    .dataframe tbody tr th {\n",
       "        vertical-align: top;\n",
       "    }\n",
       "\n",
       "    .dataframe thead th {\n",
       "        text-align: right;\n",
       "    }\n",
       "</style>\n",
       "<table border=\"1\" class=\"dataframe\">\n",
       "  <thead>\n",
       "    <tr style=\"text-align: right;\">\n",
       "      <th>Miles_band</th>\n",
       "      <th>0-50</th>\n",
       "      <th>100-150</th>\n",
       "      <th>150-200</th>\n",
       "      <th>200-250</th>\n",
       "      <th>250-300</th>\n",
       "      <th>300+</th>\n",
       "      <th>50-100</th>\n",
       "    </tr>\n",
       "    <tr>\n",
       "      <th>Product</th>\n",
       "      <th></th>\n",
       "      <th></th>\n",
       "      <th></th>\n",
       "      <th></th>\n",
       "      <th></th>\n",
       "      <th></th>\n",
       "      <th></th>\n",
       "    </tr>\n",
       "  </thead>\n",
       "  <tbody>\n",
       "    <tr>\n",
       "      <th>KP281</th>\n",
       "      <td>15.000000</td>\n",
       "      <td>20.000000</td>\n",
       "      <td>2.500000</td>\n",
       "      <td>0.000000</td>\n",
       "      <td>0.0</td>\n",
       "      <td>0.0</td>\n",
       "      <td>62.5</td>\n",
       "    </tr>\n",
       "    <tr>\n",
       "      <th>KP481</th>\n",
       "      <td>8.333333</td>\n",
       "      <td>21.666667</td>\n",
       "      <td>3.333333</td>\n",
       "      <td>1.666667</td>\n",
       "      <td>0.0</td>\n",
       "      <td>0.0</td>\n",
       "      <td>65.0</td>\n",
       "    </tr>\n",
       "    <tr>\n",
       "      <th>KP781</th>\n",
       "      <td>0.000000</td>\n",
       "      <td>22.500000</td>\n",
       "      <td>45.000000</td>\n",
       "      <td>2.500000</td>\n",
       "      <td>7.5</td>\n",
       "      <td>2.5</td>\n",
       "      <td>20.0</td>\n",
       "    </tr>\n",
       "  </tbody>\n",
       "</table>\n",
       "</div>"
      ],
      "text/plain": [
       "Miles_band       0-50    100-150    150-200   200-250  250-300  300+  50-100\n",
       "Product                                                                     \n",
       "KP281       15.000000  20.000000   2.500000  0.000000      0.0   0.0    62.5\n",
       "KP481        8.333333  21.666667   3.333333  1.666667      0.0   0.0    65.0\n",
       "KP781        0.000000  22.500000  45.000000  2.500000      7.5   2.5    20.0"
      ]
     },
     "execution_count": 115,
     "metadata": {},
     "output_type": "execute_result"
    }
   ],
   "source": [
    "#Miles wise probability for Product\n",
    "pd.crosstab(aerofit[\"Product\"],aerofit[\"Miles_band\"],normalize=\"index\")*100"
   ]
  },
  {
   "cell_type": "code",
   "execution_count": 116,
   "id": "c7310969",
   "metadata": {},
   "outputs": [
    {
     "data": {
      "text/html": [
       "<div>\n",
       "<style scoped>\n",
       "    .dataframe tbody tr th:only-of-type {\n",
       "        vertical-align: middle;\n",
       "    }\n",
       "\n",
       "    .dataframe tbody tr th {\n",
       "        vertical-align: top;\n",
       "    }\n",
       "\n",
       "    .dataframe thead th {\n",
       "        text-align: right;\n",
       "    }\n",
       "</style>\n",
       "<table border=\"1\" class=\"dataframe\">\n",
       "  <thead>\n",
       "    <tr style=\"text-align: right;\">\n",
       "      <th>Education</th>\n",
       "      <th>12</th>\n",
       "      <th>13</th>\n",
       "      <th>14</th>\n",
       "      <th>15</th>\n",
       "      <th>16</th>\n",
       "      <th>18</th>\n",
       "      <th>20</th>\n",
       "      <th>21</th>\n",
       "    </tr>\n",
       "    <tr>\n",
       "      <th>Product</th>\n",
       "      <th></th>\n",
       "      <th></th>\n",
       "      <th></th>\n",
       "      <th></th>\n",
       "      <th></th>\n",
       "      <th></th>\n",
       "      <th></th>\n",
       "      <th></th>\n",
       "    </tr>\n",
       "  </thead>\n",
       "  <tbody>\n",
       "    <tr>\n",
       "      <th>KP281</th>\n",
       "      <td>1.111111</td>\n",
       "      <td>1.666667</td>\n",
       "      <td>16.666667</td>\n",
       "      <td>2.222222</td>\n",
       "      <td>21.666667</td>\n",
       "      <td>1.111111</td>\n",
       "      <td>0.000000</td>\n",
       "      <td>0.000000</td>\n",
       "    </tr>\n",
       "    <tr>\n",
       "      <th>KP481</th>\n",
       "      <td>0.555556</td>\n",
       "      <td>1.111111</td>\n",
       "      <td>12.777778</td>\n",
       "      <td>0.555556</td>\n",
       "      <td>17.222222</td>\n",
       "      <td>1.111111</td>\n",
       "      <td>0.000000</td>\n",
       "      <td>0.000000</td>\n",
       "    </tr>\n",
       "    <tr>\n",
       "      <th>KP781</th>\n",
       "      <td>0.000000</td>\n",
       "      <td>0.000000</td>\n",
       "      <td>1.111111</td>\n",
       "      <td>0.000000</td>\n",
       "      <td>8.333333</td>\n",
       "      <td>10.555556</td>\n",
       "      <td>0.555556</td>\n",
       "      <td>1.666667</td>\n",
       "    </tr>\n",
       "  </tbody>\n",
       "</table>\n",
       "</div>"
      ],
      "text/plain": [
       "Education        12        13         14        15         16         18  \\\n",
       "Product                                                                    \n",
       "KP281      1.111111  1.666667  16.666667  2.222222  21.666667   1.111111   \n",
       "KP481      0.555556  1.111111  12.777778  0.555556  17.222222   1.111111   \n",
       "KP781      0.000000  0.000000   1.111111  0.000000   8.333333  10.555556   \n",
       "\n",
       "Education        20        21  \n",
       "Product                        \n",
       "KP281      0.000000  0.000000  \n",
       "KP481      0.000000  0.000000  \n",
       "KP781      0.555556  1.666667  "
      ]
     },
     "execution_count": 116,
     "metadata": {},
     "output_type": "execute_result"
    }
   ],
   "source": [
    "#Total probability with respect to Education levels and Product\n",
    "pd.crosstab(aerofit[\"Product\"],aerofit[\"Education\"],normalize=True)*100"
   ]
  },
  {
   "cell_type": "code",
   "execution_count": 117,
   "id": "7bd1831c",
   "metadata": {},
   "outputs": [
    {
     "data": {
      "text/html": [
       "<div>\n",
       "<style scoped>\n",
       "    .dataframe tbody tr th:only-of-type {\n",
       "        vertical-align: middle;\n",
       "    }\n",
       "\n",
       "    .dataframe tbody tr th {\n",
       "        vertical-align: top;\n",
       "    }\n",
       "\n",
       "    .dataframe thead th {\n",
       "        text-align: right;\n",
       "    }\n",
       "</style>\n",
       "<table border=\"1\" class=\"dataframe\">\n",
       "  <thead>\n",
       "    <tr style=\"text-align: right;\">\n",
       "      <th>Education</th>\n",
       "      <th>12</th>\n",
       "      <th>13</th>\n",
       "      <th>14</th>\n",
       "      <th>15</th>\n",
       "      <th>16</th>\n",
       "      <th>18</th>\n",
       "      <th>20</th>\n",
       "      <th>21</th>\n",
       "    </tr>\n",
       "    <tr>\n",
       "      <th>Product</th>\n",
       "      <th></th>\n",
       "      <th></th>\n",
       "      <th></th>\n",
       "      <th></th>\n",
       "      <th></th>\n",
       "      <th></th>\n",
       "      <th></th>\n",
       "      <th></th>\n",
       "    </tr>\n",
       "  </thead>\n",
       "  <tbody>\n",
       "    <tr>\n",
       "      <th>KP281</th>\n",
       "      <td>66.666667</td>\n",
       "      <td>60.0</td>\n",
       "      <td>54.545455</td>\n",
       "      <td>80.0</td>\n",
       "      <td>45.882353</td>\n",
       "      <td>8.695652</td>\n",
       "      <td>0.0</td>\n",
       "      <td>0.0</td>\n",
       "    </tr>\n",
       "    <tr>\n",
       "      <th>KP481</th>\n",
       "      <td>33.333333</td>\n",
       "      <td>40.0</td>\n",
       "      <td>41.818182</td>\n",
       "      <td>20.0</td>\n",
       "      <td>36.470588</td>\n",
       "      <td>8.695652</td>\n",
       "      <td>0.0</td>\n",
       "      <td>0.0</td>\n",
       "    </tr>\n",
       "    <tr>\n",
       "      <th>KP781</th>\n",
       "      <td>0.000000</td>\n",
       "      <td>0.0</td>\n",
       "      <td>3.636364</td>\n",
       "      <td>0.0</td>\n",
       "      <td>17.647059</td>\n",
       "      <td>82.608696</td>\n",
       "      <td>100.0</td>\n",
       "      <td>100.0</td>\n",
       "    </tr>\n",
       "  </tbody>\n",
       "</table>\n",
       "</div>"
      ],
      "text/plain": [
       "Education         12    13         14    15         16         18     20  \\\n",
       "Product                                                                    \n",
       "KP281      66.666667  60.0  54.545455  80.0  45.882353   8.695652    0.0   \n",
       "KP481      33.333333  40.0  41.818182  20.0  36.470588   8.695652    0.0   \n",
       "KP781       0.000000   0.0   3.636364   0.0  17.647059  82.608696  100.0   \n",
       "\n",
       "Education     21  \n",
       "Product           \n",
       "KP281        0.0  \n",
       "KP481        0.0  \n",
       "KP781      100.0  "
      ]
     },
     "execution_count": 117,
     "metadata": {},
     "output_type": "execute_result"
    }
   ],
   "source": [
    "#Product wise probability for Education level\n",
    "pd.crosstab(aerofit[\"Product\"],aerofit[\"Education\"],normalize='columns')*100"
   ]
  },
  {
   "cell_type": "code",
   "execution_count": 118,
   "id": "a390c295",
   "metadata": {},
   "outputs": [
    {
     "data": {
      "text/html": [
       "<div>\n",
       "<style scoped>\n",
       "    .dataframe tbody tr th:only-of-type {\n",
       "        vertical-align: middle;\n",
       "    }\n",
       "\n",
       "    .dataframe tbody tr th {\n",
       "        vertical-align: top;\n",
       "    }\n",
       "\n",
       "    .dataframe thead th {\n",
       "        text-align: right;\n",
       "    }\n",
       "</style>\n",
       "<table border=\"1\" class=\"dataframe\">\n",
       "  <thead>\n",
       "    <tr style=\"text-align: right;\">\n",
       "      <th>Education</th>\n",
       "      <th>12</th>\n",
       "      <th>13</th>\n",
       "      <th>14</th>\n",
       "      <th>15</th>\n",
       "      <th>16</th>\n",
       "      <th>18</th>\n",
       "      <th>20</th>\n",
       "      <th>21</th>\n",
       "    </tr>\n",
       "    <tr>\n",
       "      <th>Product</th>\n",
       "      <th></th>\n",
       "      <th></th>\n",
       "      <th></th>\n",
       "      <th></th>\n",
       "      <th></th>\n",
       "      <th></th>\n",
       "      <th></th>\n",
       "      <th></th>\n",
       "    </tr>\n",
       "  </thead>\n",
       "  <tbody>\n",
       "    <tr>\n",
       "      <th>KP281</th>\n",
       "      <td>2.500000</td>\n",
       "      <td>3.750000</td>\n",
       "      <td>37.500000</td>\n",
       "      <td>5.000000</td>\n",
       "      <td>48.750000</td>\n",
       "      <td>2.500000</td>\n",
       "      <td>0.0</td>\n",
       "      <td>0.0</td>\n",
       "    </tr>\n",
       "    <tr>\n",
       "      <th>KP481</th>\n",
       "      <td>1.666667</td>\n",
       "      <td>3.333333</td>\n",
       "      <td>38.333333</td>\n",
       "      <td>1.666667</td>\n",
       "      <td>51.666667</td>\n",
       "      <td>3.333333</td>\n",
       "      <td>0.0</td>\n",
       "      <td>0.0</td>\n",
       "    </tr>\n",
       "    <tr>\n",
       "      <th>KP781</th>\n",
       "      <td>0.000000</td>\n",
       "      <td>0.000000</td>\n",
       "      <td>5.000000</td>\n",
       "      <td>0.000000</td>\n",
       "      <td>37.500000</td>\n",
       "      <td>47.500000</td>\n",
       "      <td>2.5</td>\n",
       "      <td>7.5</td>\n",
       "    </tr>\n",
       "  </tbody>\n",
       "</table>\n",
       "</div>"
      ],
      "text/plain": [
       "Education        12        13         14        15         16         18   20  \\\n",
       "Product                                                                         \n",
       "KP281      2.500000  3.750000  37.500000  5.000000  48.750000   2.500000  0.0   \n",
       "KP481      1.666667  3.333333  38.333333  1.666667  51.666667   3.333333  0.0   \n",
       "KP781      0.000000  0.000000   5.000000  0.000000  37.500000  47.500000  2.5   \n",
       "\n",
       "Education   21  \n",
       "Product         \n",
       "KP281      0.0  \n",
       "KP481      0.0  \n",
       "KP781      7.5  "
      ]
     },
     "execution_count": 118,
     "metadata": {},
     "output_type": "execute_result"
    }
   ],
   "source": [
    "#Education wise probability for Product\n",
    "pd.crosstab(aerofit[\"Product\"],aerofit[\"Education\"],normalize='index')*100"
   ]
  },
  {
   "cell_type": "code",
   "execution_count": 119,
   "id": "be4140bd",
   "metadata": {},
   "outputs": [],
   "source": [
    "def func(data):\n",
    "    if data<=20:\n",
    "        return \"0-20\"\n",
    "    elif data>20 and data<=30:\n",
    "        return \"20-30\"\n",
    "    elif data>30 and data<=40:\n",
    "        return \"30-40\"\n",
    "    elif data >40 and data<=50:\n",
    "        return \"40-50\"\n",
    "    else:\n",
    "        return \"50+\"\n",
    "    \n",
    "aerofit[\"Age_band\"]=aerofit[\"Age\"].apply(func)"
   ]
  },
  {
   "cell_type": "code",
   "execution_count": 120,
   "id": "b5b1b7f9",
   "metadata": {},
   "outputs": [
    {
     "data": {
      "text/html": [
       "<div>\n",
       "<style scoped>\n",
       "    .dataframe tbody tr th:only-of-type {\n",
       "        vertical-align: middle;\n",
       "    }\n",
       "\n",
       "    .dataframe tbody tr th {\n",
       "        vertical-align: top;\n",
       "    }\n",
       "\n",
       "    .dataframe thead th {\n",
       "        text-align: right;\n",
       "    }\n",
       "</style>\n",
       "<table border=\"1\" class=\"dataframe\">\n",
       "  <thead>\n",
       "    <tr style=\"text-align: right;\">\n",
       "      <th>Age_band</th>\n",
       "      <th>0-20</th>\n",
       "      <th>20-30</th>\n",
       "      <th>30-40</th>\n",
       "      <th>40-50</th>\n",
       "    </tr>\n",
       "    <tr>\n",
       "      <th>Product</th>\n",
       "      <th></th>\n",
       "      <th></th>\n",
       "      <th></th>\n",
       "      <th></th>\n",
       "    </tr>\n",
       "  </thead>\n",
       "  <tbody>\n",
       "    <tr>\n",
       "      <th>KP281</th>\n",
       "      <td>3.333333</td>\n",
       "      <td>27.222222</td>\n",
       "      <td>10.555556</td>\n",
       "      <td>3.333333</td>\n",
       "    </tr>\n",
       "    <tr>\n",
       "      <th>KP481</th>\n",
       "      <td>2.222222</td>\n",
       "      <td>17.222222</td>\n",
       "      <td>12.777778</td>\n",
       "      <td>1.111111</td>\n",
       "    </tr>\n",
       "    <tr>\n",
       "      <th>KP781</th>\n",
       "      <td>0.000000</td>\n",
       "      <td>16.666667</td>\n",
       "      <td>3.333333</td>\n",
       "      <td>2.222222</td>\n",
       "    </tr>\n",
       "  </tbody>\n",
       "</table>\n",
       "</div>"
      ],
      "text/plain": [
       "Age_band      0-20      20-30      30-40     40-50\n",
       "Product                                           \n",
       "KP281     3.333333  27.222222  10.555556  3.333333\n",
       "KP481     2.222222  17.222222  12.777778  1.111111\n",
       "KP781     0.000000  16.666667   3.333333  2.222222"
      ]
     },
     "execution_count": 120,
     "metadata": {},
     "output_type": "execute_result"
    }
   ],
   "source": [
    "# total probability for age band and Product\n",
    "pd.crosstab(aerofit[\"Product\"],aerofit[\"Age_band\"],normalize=True)*100"
   ]
  },
  {
   "cell_type": "code",
   "execution_count": 121,
   "id": "dead46f0",
   "metadata": {},
   "outputs": [
    {
     "data": {
      "text/html": [
       "<div>\n",
       "<style scoped>\n",
       "    .dataframe tbody tr th:only-of-type {\n",
       "        vertical-align: middle;\n",
       "    }\n",
       "\n",
       "    .dataframe tbody tr th {\n",
       "        vertical-align: top;\n",
       "    }\n",
       "\n",
       "    .dataframe thead th {\n",
       "        text-align: right;\n",
       "    }\n",
       "</style>\n",
       "<table border=\"1\" class=\"dataframe\">\n",
       "  <thead>\n",
       "    <tr style=\"text-align: right;\">\n",
       "      <th>Age_band</th>\n",
       "      <th>0-20</th>\n",
       "      <th>20-30</th>\n",
       "      <th>30-40</th>\n",
       "      <th>40-50</th>\n",
       "    </tr>\n",
       "    <tr>\n",
       "      <th>Product</th>\n",
       "      <th></th>\n",
       "      <th></th>\n",
       "      <th></th>\n",
       "      <th></th>\n",
       "    </tr>\n",
       "  </thead>\n",
       "  <tbody>\n",
       "    <tr>\n",
       "      <th>KP281</th>\n",
       "      <td>60.0</td>\n",
       "      <td>44.545455</td>\n",
       "      <td>39.583333</td>\n",
       "      <td>50.000000</td>\n",
       "    </tr>\n",
       "    <tr>\n",
       "      <th>KP481</th>\n",
       "      <td>40.0</td>\n",
       "      <td>28.181818</td>\n",
       "      <td>47.916667</td>\n",
       "      <td>16.666667</td>\n",
       "    </tr>\n",
       "    <tr>\n",
       "      <th>KP781</th>\n",
       "      <td>0.0</td>\n",
       "      <td>27.272727</td>\n",
       "      <td>12.500000</td>\n",
       "      <td>33.333333</td>\n",
       "    </tr>\n",
       "  </tbody>\n",
       "</table>\n",
       "</div>"
      ],
      "text/plain": [
       "Age_band  0-20      20-30      30-40      40-50\n",
       "Product                                        \n",
       "KP281     60.0  44.545455  39.583333  50.000000\n",
       "KP481     40.0  28.181818  47.916667  16.666667\n",
       "KP781      0.0  27.272727  12.500000  33.333333"
      ]
     },
     "execution_count": 121,
     "metadata": {},
     "output_type": "execute_result"
    }
   ],
   "source": [
    "# Product wise probability for Age band\n",
    "pd.crosstab(aerofit[\"Product\"],aerofit[\"Age_band\"],normalize='columns')*100"
   ]
  },
  {
   "cell_type": "code",
   "execution_count": 122,
   "id": "7429fc7d",
   "metadata": {},
   "outputs": [
    {
     "data": {
      "text/html": [
       "<div>\n",
       "<style scoped>\n",
       "    .dataframe tbody tr th:only-of-type {\n",
       "        vertical-align: middle;\n",
       "    }\n",
       "\n",
       "    .dataframe tbody tr th {\n",
       "        vertical-align: top;\n",
       "    }\n",
       "\n",
       "    .dataframe thead th {\n",
       "        text-align: right;\n",
       "    }\n",
       "</style>\n",
       "<table border=\"1\" class=\"dataframe\">\n",
       "  <thead>\n",
       "    <tr style=\"text-align: right;\">\n",
       "      <th>Age_band</th>\n",
       "      <th>0-20</th>\n",
       "      <th>20-30</th>\n",
       "      <th>30-40</th>\n",
       "      <th>40-50</th>\n",
       "    </tr>\n",
       "    <tr>\n",
       "      <th>Product</th>\n",
       "      <th></th>\n",
       "      <th></th>\n",
       "      <th></th>\n",
       "      <th></th>\n",
       "    </tr>\n",
       "  </thead>\n",
       "  <tbody>\n",
       "    <tr>\n",
       "      <th>KP281</th>\n",
       "      <td>7.500000</td>\n",
       "      <td>61.250000</td>\n",
       "      <td>23.750000</td>\n",
       "      <td>7.500000</td>\n",
       "    </tr>\n",
       "    <tr>\n",
       "      <th>KP481</th>\n",
       "      <td>6.666667</td>\n",
       "      <td>51.666667</td>\n",
       "      <td>38.333333</td>\n",
       "      <td>3.333333</td>\n",
       "    </tr>\n",
       "    <tr>\n",
       "      <th>KP781</th>\n",
       "      <td>0.000000</td>\n",
       "      <td>75.000000</td>\n",
       "      <td>15.000000</td>\n",
       "      <td>10.000000</td>\n",
       "    </tr>\n",
       "  </tbody>\n",
       "</table>\n",
       "</div>"
      ],
      "text/plain": [
       "Age_band      0-20      20-30      30-40      40-50\n",
       "Product                                            \n",
       "KP281     7.500000  61.250000  23.750000   7.500000\n",
       "KP481     6.666667  51.666667  38.333333   3.333333\n",
       "KP781     0.000000  75.000000  15.000000  10.000000"
      ]
     },
     "execution_count": 122,
     "metadata": {},
     "output_type": "execute_result"
    }
   ],
   "source": [
    "# Age wise probability for Products\n",
    "pd.crosstab(aerofit[\"Product\"],aerofit[\"Age_band\"],normalize='index')*100"
   ]
  },
  {
   "cell_type": "markdown",
   "id": "1f6a3c5e",
   "metadata": {},
   "source": [
    "# Checking correlation for metrices"
   ]
  },
  {
   "cell_type": "markdown",
   "id": "a89c8297",
   "metadata": {},
   "source": [
    " for KP281"
   ]
  },
  {
   "cell_type": "code",
   "execution_count": 124,
   "id": "4a22878e",
   "metadata": {},
   "outputs": [],
   "source": [
    "aerofit_281=aerofit.loc[aerofit[\"Product\"]==\"KP281\"]"
   ]
  },
  {
   "cell_type": "code",
   "execution_count": 125,
   "id": "d5f22e76",
   "metadata": {},
   "outputs": [],
   "source": [
    "aerofit_481=aerofit.loc[aerofit[\"Product\"]==\"KP481\"]"
   ]
  },
  {
   "cell_type": "code",
   "execution_count": 126,
   "id": "f88d601f",
   "metadata": {},
   "outputs": [],
   "source": [
    "aerofit_781=aerofit.loc[aerofit[\"Product\"]==\"KP781\"]"
   ]
  },
  {
   "cell_type": "code",
   "execution_count": 131,
   "id": "b067a757",
   "metadata": {},
   "outputs": [
    {
     "data": {
      "image/png": "[encoded data removed]",
      "text/plain": [
       "<Figure size 432x288 with 2 Axes>"
      ]
     },
     "metadata": {
      "needs_background": "light"
     },
     "output_type": "display_data"
    }
   ],
   "source": [
    "#Probability distribution of product KP281 correlating Fitness and Age_band\n",
    "sns.heatmap(pd.crosstab(aerofit_281[\"Fitness\"],aerofit_281[\"Age_band\"],normalize=True)*100,annot=True)\n",
    "plt.show()"
   ]
  },
  {
   "cell_type": "code",
   "execution_count": 133,
   "id": "43ef6279",
   "metadata": {},
   "outputs": [
    {
     "data": {
      "image/png": "[encoded data removed]",
      "text/plain": [
       "<Figure size 432x288 with 2 Axes>"
      ]
     },
     "metadata": {
      "needs_background": "light"
     },
     "output_type": "display_data"
    }
   ],
   "source": [
    "#Probability distribution of product KP481 correlating Fitness and Age_band\n",
    "sns.heatmap(pd.crosstab(aerofit_481[\"Fitness\"],aerofit_481[\"Age_band\"],normalize=True)*100,annot=True)\n",
    "plt.show()"
   ]
  },
  {
   "cell_type": "code",
   "execution_count": 134,
   "id": "e66cd32a",
   "metadata": {},
   "outputs": [
    {
     "data": {
      "image/png": "[encoded data removed]",
      "text/plain": [
       "<Figure size 432x288 with 2 Axes>"
      ]
     },
     "metadata": {
      "needs_background": "light"
     },
     "output_type": "display_data"
    }
   ],
   "source": [
    "#Probability distribution of product KP781 correlating Fitness and Age_band\n",
    "sns.heatmap(pd.crosstab(aerofit_781[\"Fitness\"],aerofit_781[\"Age_band\"],normalize=True)*100,annot=True)\n",
    "plt.show()"
   ]
  },
  {
   "cell_type": "code",
   "execution_count": 132,
   "id": "bb74417f",
   "metadata": {},
   "outputs": [
    {
     "data": {
      "image/png": "[encoded data removed]",
      "text/plain": [
       "<Figure size 432x288 with 2 Axes>"
      ]
     },
     "metadata": {
      "needs_background": "light"
     },
     "output_type": "display_data"
    }
   ],
   "source": [
    "#Probability distribution of product KP281 correlating Education and Income_band\n",
    "sns.heatmap(pd.crosstab(aerofit_281[\"Education\"],aerofit_281[\"Income_band\"],normalize=True)*100,annot=True)\n",
    "plt.show()"
   ]
  },
  {
   "cell_type": "code",
   "execution_count": 135,
   "id": "bf3806bc",
   "metadata": {},
   "outputs": [
    {
     "data": {
      "image/png": "[encoded data removed]",
      "text/plain": [
       "<Figure size 432x288 with 2 Axes>"
      ]
     },
     "metadata": {
      "needs_background": "light"
     },
     "output_type": "display_data"
    }
   ],
   "source": [
    "#Probability distribution of product KP481 correlating Education and Income_band\n",
    "sns.heatmap(pd.crosstab(aerofit_481[\"Education\"],aerofit_481[\"Income_band\"],normalize=True)*100,annot=True)\n",
    "plt.show()"
   ]
  },
  {
   "cell_type": "code",
   "execution_count": 136,
   "id": "643455e1",
   "metadata": {},
   "outputs": [
    {
     "data": {
      "image/png": "[encoded data removed]",
      "text/plain": [
       "<Figure size 432x288 with 2 Axes>"
      ]
     },
     "metadata": {
      "needs_background": "light"
     },
     "output_type": "display_data"
    }
   ],
   "source": [
    "#Probability distribution of product KP781 correlating Education and Income_band\n",
    "sns.heatmap(pd.crosstab(aerofit_781[\"Education\"],aerofit_781[\"Income_band\"],normalize=True)*100,annot=True)\n",
    "plt.show()"
   ]
  },
  {
   "cell_type": "code",
   "execution_count": 137,
   "id": "7eefe45e",
   "metadata": {},
   "outputs": [
    {
     "data": {
      "image/png": "[encoded data removed]",
      "text/plain": [
       "<Figure size 432x288 with 2 Axes>"
      ]
     },
     "metadata": {
      "needs_background": "light"
     },
     "output_type": "display_data"
    }
   ],
   "source": [
    "#Probability distribution of product KP281 correlating Usage and Miles_band\n",
    "sns.heatmap(pd.crosstab(aerofit_281[\"Usage\"],aerofit_281[\"Miles_band\"],normalize=True)*100,annot=True)\n",
    "plt.show()"
   ]
  },
  {
   "cell_type": "code",
   "execution_count": 138,
   "id": "e7dbae17",
   "metadata": {},
   "outputs": [
    {
     "data": {
      "image/png": "[encoded data removed]",
      "text/plain": [
       "<Figure size 432x288 with 2 Axes>"
      ]
     },
     "metadata": {
      "needs_background": "light"
     },
     "output_type": "display_data"
    }
   ],
   "source": [
    "#Probability distribution of product KP481 correlating Usage and Miles_band\n",
    "sns.heatmap(pd.crosstab(aerofit_481[\"Usage\"],aerofit_481[\"Miles_band\"],normalize=True)*100,annot=True)\n",
    "plt.show()"
   ]
  },
  {
   "cell_type": "code",
   "execution_count": 139,
   "id": "eebf2bef",
   "metadata": {},
   "outputs": [
    {
     "data": {
      "image/png": "[encoded data removed]",
      "text/plain": [
       "<Figure size 432x288 with 2 Axes>"
      ]
     },
     "metadata": {
      "needs_background": "light"
     },
     "output_type": "display_data"
    }
   ],
   "source": [
    "#Probability distribution of product KP781 correlating Usage and Miles_band\n",
    "sns.heatmap(pd.crosstab(aerofit_781[\"Usage\"],aerofit_781[\"Miles_band\"],normalize=True)*100,annot=True)\n",
    "plt.show()"
   ]
  },
  {
   "cell_type": "code",
   "execution_count": 143,
   "id": "e4a410b2",
   "metadata": {},
   "outputs": [
    {
     "data": {
      "image/png": "[encoded data removed]",
      "text/plain": [
       "<Figure size 1080x1080 with 42 Axes>"
      ]
     },
     "metadata": {
      "needs_background": "light"
     },
     "output_type": "display_data"
    }
   ],
   "source": [
    "#Pairplot for product KP281\n",
    "sns.pairplot(aerofit_281)\n",
    "plt.show()"
   ]
  },
  {
   "cell_type": "code",
   "execution_count": 144,
   "id": "0cc880d9",
   "metadata": {},
   "outputs": [
    {
     "data": {
      "image/png": "[encoded data removed]",
      "text/plain": [
       "<Figure size 1080x1080 with 42 Axes>"
      ]
     },
     "metadata": {
      "needs_background": "light"
     },
     "output_type": "display_data"
    }
   ],
   "source": [
    "#Pairplot for product KP481\n",
    "sns.pairplot(aerofit_481)\n",
    "plt.show()"
   ]
  },
  {
   "cell_type": "code",
   "execution_count": 145,
   "id": "8cf0527a",
   "metadata": {},
   "outputs": [
    {
     "data": {
      "image/png": "[encoded data removed]",
      "text/plain": [
       "<Figure size 1080x1080 with 42 Axes>"
      ]
     },
     "metadata": {
      "needs_background": "light"
     },
     "output_type": "display_data"
    }
   ],
   "source": [
    "#pairplot for product KP781\n",
    "sns.pairplot(aerofit_781)\n",
    "plt.show()"
   ]
  },
  {
   "cell_type": "markdown",
   "id": "d773b629",
   "metadata": {},
   "source": [
    "# Answering basic questions for probability"
   ]
  },
  {
   "cell_type": "markdown",
   "id": "483e4cc9",
   "metadata": {},
   "source": [
    "With all the above steps you can answer questions like: What is the probability of a male customer buying a KP781 treadmill?"
   ]
  },
  {
   "cell_type": "markdown",
   "id": "92523029",
   "metadata": {},
   "source": [
    "Looking at the cross tab where product wise probability of Genders are found above, it is found that that the probability of male buying KP781 treadmill is 31.73%"
   ]
  },
  {
   "cell_type": "markdown",
   "id": "60c4ea04",
   "metadata": {},
   "source": [
    "Probability of person aged 20-30 years if they use KP281 "
   ]
  },
  {
   "cell_type": "markdown",
   "id": "98638340",
   "metadata": {},
   "source": [
    "Using crosstab, the answer found out is 61.25%"
   ]
  },
  {
   "cell_type": "markdown",
   "id": "3f2a5177",
   "metadata": {},
   "source": [
    "Probability of fitness level 5 given that product used is KP781"
   ]
  },
  {
   "cell_type": "markdown",
   "id": "bf0ac04f",
   "metadata": {},
   "source": [
    "72.5%"
   ]
  },
  {
   "cell_type": "markdown",
   "id": "f0130eaf",
   "metadata": {},
   "source": [
    "# Customer Profiling"
   ]
  },
  {
   "cell_type": "code",
   "execution_count": null,
   "id": "20e00616",
   "metadata": {},
   "outputs": [],
   "source": []
  },
  {
   "cell_type": "code",
   "execution_count": 107,
   "id": "aba118a9",
   "metadata": {},
   "outputs": [
    {
     "name": "stderr",
     "output_type": "stream",
     "text": [
      "C:\\Users\\HP\\AppData\\Local\\Temp\\ipykernel_5708\\4150797457.py:1: FutureWarning: Indexing with multiple keys (implicitly converted to a tuple of keys) will be deprecated, use a list instead.\n",
      "  aerofit.groupby([\"Product\",\"Gender\",\"MaritalStatus\"])[\"Age\",\"Fitness\",\"Education\",\"Income\",\"Miles\",\"Usage\"].aggregate({\"Age\":[\"mean\",'std'],\"Fitness\":[\"mean\",\"std\"],\"Education\":[\"mean\",\"std\"],\"Income\":[\"mean\",\"std\"],\"Miles\":[\"mean\",\"std\"],\"Usage\":[\"mean\",\"std\"]})\n"
     ]
    },
    {
     "data": {
      "text/html": [
       "<div>\n",
       "<style scoped>\n",
       "    .dataframe tbody tr th:only-of-type {\n",
       "        vertical-align: middle;\n",
       "    }\n",
       "\n",
       "    .dataframe tbody tr th {\n",
       "        vertical-align: top;\n",
       "    }\n",
       "\n",
       "    .dataframe thead tr th {\n",
       "        text-align: left;\n",
       "    }\n",
       "\n",
       "    .dataframe thead tr:last-of-type th {\n",
       "        text-align: right;\n",
       "    }\n",
       "</style>\n",
       "<table border=\"1\" class=\"dataframe\">\n",
       "  <thead>\n",
       "    <tr>\n",
       "      <th></th>\n",
       "      <th></th>\n",
       "      <th></th>\n",
       "      <th colspan=\"2\" halign=\"left\">Age</th>\n",
       "      <th colspan=\"2\" halign=\"left\">Fitness</th>\n",
       "      <th colspan=\"2\" halign=\"left\">Education</th>\n",
       "      <th colspan=\"2\" halign=\"left\">Income</th>\n",
       "      <th colspan=\"2\" halign=\"left\">Miles</th>\n",
       "      <th colspan=\"2\" halign=\"left\">Usage</th>\n",
       "    </tr>\n",
       "    <tr>\n",
       "      <th></th>\n",
       "      <th></th>\n",
       "      <th></th>\n",
       "      <th>mean</th>\n",
       "      <th>std</th>\n",
       "      <th>mean</th>\n",
       "      <th>std</th>\n",
       "      <th>mean</th>\n",
       "      <th>std</th>\n",
       "      <th>mean</th>\n",
       "      <th>std</th>\n",
       "      <th>mean</th>\n",
       "      <th>std</th>\n",
       "      <th>mean</th>\n",
       "      <th>std</th>\n",
       "    </tr>\n",
       "    <tr>\n",
       "      <th>Product</th>\n",
       "      <th>Gender</th>\n",
       "      <th>MaritalStatus</th>\n",
       "      <th></th>\n",
       "      <th></th>\n",
       "      <th></th>\n",
       "      <th></th>\n",
       "      <th></th>\n",
       "      <th></th>\n",
       "      <th></th>\n",
       "      <th></th>\n",
       "      <th></th>\n",
       "      <th></th>\n",
       "      <th></th>\n",
       "      <th></th>\n",
       "    </tr>\n",
       "  </thead>\n",
       "  <tbody>\n",
       "    <tr>\n",
       "      <th rowspan=\"4\" valign=\"top\">KP281</th>\n",
       "      <th rowspan=\"2\" valign=\"top\">Female</th>\n",
       "      <th>Partnered</th>\n",
       "      <td>28.333333</td>\n",
       "      <td>7.411011</td>\n",
       "      <td>2.851852</td>\n",
       "      <td>0.662379</td>\n",
       "      <td>14.888889</td>\n",
       "      <td>0.974022</td>\n",
       "      <td>46153.777778</td>\n",
       "      <td>8954.186714</td>\n",
       "      <td>74.925926</td>\n",
       "      <td>30.483193</td>\n",
       "      <td>2.851852</td>\n",
       "      <td>0.769800</td>\n",
       "    </tr>\n",
       "    <tr>\n",
       "      <th>Single</th>\n",
       "      <td>28.692308</td>\n",
       "      <td>6.725382</td>\n",
       "      <td>2.923077</td>\n",
       "      <td>0.640513</td>\n",
       "      <td>15.538462</td>\n",
       "      <td>1.198289</td>\n",
       "      <td>45742.384615</td>\n",
       "      <td>10139.441968</td>\n",
       "      <td>78.846154</td>\n",
       "      <td>22.832164</td>\n",
       "      <td>3.000000</td>\n",
       "      <td>0.816497</td>\n",
       "    </tr>\n",
       "    <tr>\n",
       "      <th rowspan=\"2\" valign=\"top\">Male</th>\n",
       "      <th>Partnered</th>\n",
       "      <td>31.380952</td>\n",
       "      <td>7.857965</td>\n",
       "      <td>2.857143</td>\n",
       "      <td>0.727029</td>\n",
       "      <td>15.428571</td>\n",
       "      <td>1.247855</td>\n",
       "      <td>50028.000000</td>\n",
       "      <td>8316.438030</td>\n",
       "      <td>80.190476</td>\n",
       "      <td>28.842016</td>\n",
       "      <td>3.285714</td>\n",
       "      <td>0.717137</td>\n",
       "    </tr>\n",
       "    <tr>\n",
       "      <th>Single</th>\n",
       "      <td>25.631579</td>\n",
       "      <td>5.688297</td>\n",
       "      <td>3.263158</td>\n",
       "      <td>0.561951</td>\n",
       "      <td>14.473684</td>\n",
       "      <td>1.306753</td>\n",
       "      <td>43265.842105</td>\n",
       "      <td>8613.175748</td>\n",
       "      <td>99.526316</td>\n",
       "      <td>25.248473</td>\n",
       "      <td>3.263158</td>\n",
       "      <td>0.805682</td>\n",
       "    </tr>\n",
       "    <tr>\n",
       "      <th rowspan=\"4\" valign=\"top\">KP481</th>\n",
       "      <th rowspan=\"2\" valign=\"top\">Female</th>\n",
       "      <th>Partnered</th>\n",
       "      <td>30.000000</td>\n",
       "      <td>6.380775</td>\n",
       "      <td>2.933333</td>\n",
       "      <td>0.457738</td>\n",
       "      <td>15.200000</td>\n",
       "      <td>1.014185</td>\n",
       "      <td>49724.800000</td>\n",
       "      <td>8957.558964</td>\n",
       "      <td>94.000000</td>\n",
       "      <td>35.538711</td>\n",
       "      <td>3.333333</td>\n",
       "      <td>1.112697</td>\n",
       "    </tr>\n",
       "    <tr>\n",
       "      <th>Single</th>\n",
       "      <td>28.142857</td>\n",
       "      <td>5.171775</td>\n",
       "      <td>2.785714</td>\n",
       "      <td>0.892582</td>\n",
       "      <td>15.214286</td>\n",
       "      <td>1.577660</td>\n",
       "      <td>48920.357143</td>\n",
       "      <td>7109.259472</td>\n",
       "      <td>80.214286</td>\n",
       "      <td>30.737545</td>\n",
       "      <td>2.928571</td>\n",
       "      <td>0.615728</td>\n",
       "    </tr>\n",
       "    <tr>\n",
       "      <th rowspan=\"2\" valign=\"top\">Male</th>\n",
       "      <th>Partnered</th>\n",
       "      <td>30.380952</td>\n",
       "      <td>7.927649</td>\n",
       "      <td>2.904762</td>\n",
       "      <td>0.624881</td>\n",
       "      <td>15.285714</td>\n",
       "      <td>1.230563</td>\n",
       "      <td>49378.285714</td>\n",
       "      <td>8618.515714</td>\n",
       "      <td>87.238095</td>\n",
       "      <td>36.804762</td>\n",
       "      <td>2.857143</td>\n",
       "      <td>0.654654</td>\n",
       "    </tr>\n",
       "    <tr>\n",
       "      <th>Single</th>\n",
       "      <td>25.200000</td>\n",
       "      <td>4.962078</td>\n",
       "      <td>3.000000</td>\n",
       "      <td>0.471405</td>\n",
       "      <td>14.500000</td>\n",
       "      <td>0.849837</td>\n",
       "      <td>47071.800000</td>\n",
       "      <td>11078.216030</td>\n",
       "      <td>91.100000</td>\n",
       "      <td>27.339227</td>\n",
       "      <td>3.300000</td>\n",
       "      <td>0.674949</td>\n",
       "    </tr>\n",
       "    <tr>\n",
       "      <th rowspan=\"4\" valign=\"top\">KP781</th>\n",
       "      <th rowspan=\"2\" valign=\"top\">Female</th>\n",
       "      <th>Partnered</th>\n",
       "      <td>29.000000</td>\n",
       "      <td>3.366502</td>\n",
       "      <td>5.000000</td>\n",
       "      <td>0.000000</td>\n",
       "      <td>17.500000</td>\n",
       "      <td>1.000000</td>\n",
       "      <td>84972.250000</td>\n",
       "      <td>16117.020700</td>\n",
       "      <td>215.000000</td>\n",
       "      <td>44.347116</td>\n",
       "      <td>5.250000</td>\n",
       "      <td>0.957427</td>\n",
       "    </tr>\n",
       "    <tr>\n",
       "      <th>Single</th>\n",
       "      <td>24.333333</td>\n",
       "      <td>1.527525</td>\n",
       "      <td>4.000000</td>\n",
       "      <td>1.000000</td>\n",
       "      <td>18.333333</td>\n",
       "      <td>2.516611</td>\n",
       "      <td>58516.000000</td>\n",
       "      <td>9723.760847</td>\n",
       "      <td>133.333333</td>\n",
       "      <td>57.735027</td>\n",
       "      <td>4.666667</td>\n",
       "      <td>0.577350</td>\n",
       "    </tr>\n",
       "    <tr>\n",
       "      <th rowspan=\"2\" valign=\"top\">Male</th>\n",
       "      <th>Partnered</th>\n",
       "      <td>30.000000</td>\n",
       "      <td>7.180220</td>\n",
       "      <td>4.631579</td>\n",
       "      <td>0.597265</td>\n",
       "      <td>17.421053</td>\n",
       "      <td>1.609548</td>\n",
       "      <td>81431.368421</td>\n",
       "      <td>16811.472400</td>\n",
       "      <td>176.315789</td>\n",
       "      <td>70.569944</td>\n",
       "      <td>4.842105</td>\n",
       "      <td>1.067872</td>\n",
       "    </tr>\n",
       "    <tr>\n",
       "      <th>Single</th>\n",
       "      <td>28.928571</td>\n",
       "      <td>8.061917</td>\n",
       "      <td>4.642857</td>\n",
       "      <td>0.744946</td>\n",
       "      <td>16.928571</td>\n",
       "      <td>1.685426</td>\n",
       "      <td>68216.428571</td>\n",
       "      <td>18943.765237</td>\n",
       "      <td>147.571429</td>\n",
       "      <td>38.183191</td>\n",
       "      <td>4.571429</td>\n",
       "      <td>0.851631</td>\n",
       "    </tr>\n",
       "  </tbody>\n",
       "</table>\n",
       "</div>"
      ],
      "text/plain": [
       "                                    Age             Fitness            \\\n",
       "                                   mean       std      mean       std   \n",
       "Product Gender MaritalStatus                                            \n",
       "KP281   Female Partnered      28.333333  7.411011  2.851852  0.662379   \n",
       "               Single         28.692308  6.725382  2.923077  0.640513   \n",
       "        Male   Partnered      31.380952  7.857965  2.857143  0.727029   \n",
       "               Single         25.631579  5.688297  3.263158  0.561951   \n",
       "KP481   Female Partnered      30.000000  6.380775  2.933333  0.457738   \n",
       "               Single         28.142857  5.171775  2.785714  0.892582   \n",
       "        Male   Partnered      30.380952  7.927649  2.904762  0.624881   \n",
       "               Single         25.200000  4.962078  3.000000  0.471405   \n",
       "KP781   Female Partnered      29.000000  3.366502  5.000000  0.000000   \n",
       "               Single         24.333333  1.527525  4.000000  1.000000   \n",
       "        Male   Partnered      30.000000  7.180220  4.631579  0.597265   \n",
       "               Single         28.928571  8.061917  4.642857  0.744946   \n",
       "\n",
       "                              Education                  Income                \\\n",
       "                                   mean       std          mean           std   \n",
       "Product Gender MaritalStatus                                                    \n",
       "KP281   Female Partnered      14.888889  0.974022  46153.777778   8954.186714   \n",
       "               Single         15.538462  1.198289  45742.384615  10139.441968   \n",
       "        Male   Partnered      15.428571  1.247855  50028.000000   8316.438030   \n",
       "               Single         14.473684  1.306753  43265.842105   8613.175748   \n",
       "KP481   Female Partnered      15.200000  1.014185  49724.800000   8957.558964   \n",
       "               Single         15.214286  1.577660  48920.357143   7109.259472   \n",
       "        Male   Partnered      15.285714  1.230563  49378.285714   8618.515714   \n",
       "               Single         14.500000  0.849837  47071.800000  11078.216030   \n",
       "KP781   Female Partnered      17.500000  1.000000  84972.250000  16117.020700   \n",
       "               Single         18.333333  2.516611  58516.000000   9723.760847   \n",
       "        Male   Partnered      17.421053  1.609548  81431.368421  16811.472400   \n",
       "               Single         16.928571  1.685426  68216.428571  18943.765237   \n",
       "\n",
       "                                   Miles                Usage            \n",
       "                                    mean        std      mean       std  \n",
       "Product Gender MaritalStatus                                             \n",
       "KP281   Female Partnered       74.925926  30.483193  2.851852  0.769800  \n",
       "               Single          78.846154  22.832164  3.000000  0.816497  \n",
       "        Male   Partnered       80.190476  28.842016  3.285714  0.717137  \n",
       "               Single          99.526316  25.248473  3.263158  0.805682  \n",
       "KP481   Female Partnered       94.000000  35.538711  3.333333  1.112697  \n",
       "               Single          80.214286  30.737545  2.928571  0.615728  \n",
       "        Male   Partnered       87.238095  36.804762  2.857143  0.654654  \n",
       "               Single          91.100000  27.339227  3.300000  0.674949  \n",
       "KP781   Female Partnered      215.000000  44.347116  5.250000  0.957427  \n",
       "               Single         133.333333  57.735027  4.666667  0.577350  \n",
       "        Male   Partnered      176.315789  70.569944  4.842105  1.067872  \n",
       "               Single         147.571429  38.183191  4.571429  0.851631  "
      ]
     },
     "execution_count": 107,
     "metadata": {},
     "output_type": "execute_result"
    }
   ],
   "source": [
    "aerofit.groupby([\"Product\",\"Gender\",\"MaritalStatus\"])[\"Age\",\"Fitness\",\"Education\",\"Income\",\"Miles\",\"Usage\"].aggregate({\"Age\":[\"mean\",'std'],\"Fitness\":[\"mean\",\"std\"],\"Education\":[\"mean\",\"std\"],\"Income\":[\"mean\",\"std\"],\"Miles\":[\"mean\",\"std\"],\"Usage\":[\"mean\",\"std\"]})"
   ]
  },
  {
   "cell_type": "markdown",
   "id": "49524018",
   "metadata": {},
   "source": [
    "# Recommendations"
   ]
  },
  {
   "cell_type": "markdown",
   "id": "2fcd5e60",
   "metadata": {},
   "source": [
    "Recommendations:\n",
    "By observing dataset we can find out that there are three products KP281, KP481, KP781 each having their own properties and probability distribution across various parameters such as across Gender, Marital Status, Income levels , Fitness levels etc.\n",
    "By observing cross tabs we can find out that probability distributions of Product with respect to other parameters.\n",
    "It is observed that fitness levels, Income levels , Usage levels each have their effect on the purchase of Products.\n",
    "The product KP781 is basically recommended for the ones having high income levels , fitness levels and mostly for Males.\n",
    "Females also are well distributed for their probability upto Product KP481 but most females tend not to buy KP781 as the treadmill is for high endurance training and it has something to do with high biological strength.\n",
    "Using the heatmaps and pairplots we can find out that correlation between various parameters such Fitness and Age. It is recommended to just have a look at the Pairplots and heatmaps for better understanding of correlation.\n",
    "Fitness tends to be average and higher for the age group 20-40 years mainly 20-30 years are the ones who are involved heavily with treadmill usage.\n",
    "The ones aged <20 and >40 are low on fitness levels and basically recommended to buy low endurance treadmill that is KP281.\n",
    "Also various other insights can be drawn from the report."
   ]
  },
  {
   "cell_type": "code",
   "execution_count": null,
   "id": "4389de56",
   "metadata": {},
   "outputs": [],
   "source": []
  }
 ],
 "metadata": {
  "kernelspec": {
   "display_name": "Python 3 (ipykernel)",
   "language": "python",
   "name": "python3"
  },
  "language_info": {
   "codemirror_mode": {
    "name": "ipython",
    "version": 3
   },
   "file_extension": ".py",
   "mimetype": "text/x-python",
   "name": "python",
   "nbconvert_exporter": "python",
   "pygments_lexer": "ipython3",
   "version": "3.9.12"
  }
 },
 "nbformat": 4,
 "nbformat_minor": 5
}
